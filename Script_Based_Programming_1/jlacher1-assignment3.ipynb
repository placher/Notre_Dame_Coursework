{
 "metadata": {
  "name": "",
  "signature": "sha256:d3d27380631dd561c40ef2e2b4260cf035b2cfd1538c4ed90159e873230e36dd"
 },
 "nbformat": 3,
 "nbformat_minor": 0,
 "worksheets": [
  {
   "cells": [
    {
     "cell_type": "heading",
     "level": 1,
     "metadata": {},
     "source": [
      "CSE 10101 Assignment 3"
     ]
    },
    {
     "cell_type": "heading",
     "level": 2,
     "metadata": {},
     "source": [
      "Patrick Lacher (jlacher1@nd.edu)"
     ]
    },
    {
     "cell_type": "code",
     "collapsed": false,
     "input": [
      "import random"
     ],
     "language": "python",
     "metadata": {},
     "outputs": [],
     "prompt_number": 1
    },
    {
     "cell_type": "heading",
     "level": 4,
     "metadata": {},
     "source": [
      "This cell creates the potential verses for the generated poetry. "
     ]
    },
    {
     "cell_type": "code",
     "collapsed": false,
     "input": [
      "verse_patterns = [ 'The 5 1 6 3s the 1.', '5, 5 1s 6 3 a 5, 5 1.','2 is a 5 1.', '9, 2!', '1s 4!', 'The 1 4s like a 5 1.','1s 4 like 5 1s.', 'Why does the 1 4?', '4 6 like a 5 1.','2, 2, and 2.', 'Where is the 5 1?', 'All 1s 3 5, 5 1s.','Never 3 a 1.']"
     ],
     "language": "python",
     "metadata": {},
     "outputs": [],
     "prompt_number": 2
    },
    {
     "cell_type": "heading",
     "level": 4,
     "metadata": {},
     "source": [
      "These cells serve as the database of possible poetry elements."
     ]
    },
    {
     "cell_type": "code",
     "collapsed": false,
     "input": [
      "#1\n",
      "concrete_nouns = ['sea', 'ship', 'sail', 'wind', 'breeze','wave', 'cloud', 'mast', 'captain', 'sailor', 'shark','whale', 'tuna', 'seashell', 'pirate', 'lad', 'girl','gull', 'reef', 'shore', 'mainland', 'moon', 'sun']"
     ],
     "language": "python",
     "metadata": {},
     "outputs": [],
     "prompt_number": 3
    },
    {
     "cell_type": "code",
     "collapsed": false,
     "input": [
      "#2\n",
      "abstract_nouns = ['adventure', 'courage','endurance', 'desolation', 'death', 'life','love', 'faith']"
     ],
     "language": "python",
     "metadata": {},
     "outputs": [],
     "prompt_number": 4
    },
    {
     "cell_type": "code",
     "collapsed": false,
     "input": [
      "#3\n",
      "transitive_verbs = ['command', 'view', 'lead','pull', 'love', 'desire', 'fight']"
     ],
     "language": "python",
     "metadata": {},
     "outputs": [],
     "prompt_number": 5
    },
    {
     "cell_type": "code",
     "collapsed": false,
     "input": [
      "#4\n",
      "intransitive_verbs = ['travel', 'sail', 'wave','grow', 'rise', 'fall', 'endure', 'die']"
     ],
     "language": "python",
     "metadata": {},
     "outputs": [],
     "prompt_number": 6
    },
    {
     "cell_type": "code",
     "collapsed": false,
     "input": [
      "#5\n",
      "adjectives = ['big', 'small', 'old', 'cold','warm', 'sunny', 'rainy', 'misty', 'clear','stormy', 'rough', 'lively', 'dead']"
     ],
     "language": "python",
     "metadata": {},
     "outputs": [],
     "prompt_number": 7
    },
    {
     "cell_type": "code",
     "collapsed": false,
     "input": [
      "#6\n",
      "adverbs = ['swiftly', 'calmly', 'quietly','roughly']"
     ],
     "language": "python",
     "metadata": {},
     "outputs": [],
     "prompt_number": 8
    },
    {
     "cell_type": "code",
     "collapsed": false,
     "input": [
      "#9\n",
      "interjections = ['o', 'oo', 'ooh', 'ah', 'lord','god', 'wow', 'golly gosh', 'shiver me timbers']"
     ],
     "language": "python",
     "metadata": {},
     "outputs": [],
     "prompt_number": 9
    },
    {
     "cell_type": "heading",
     "level": 4,
     "metadata": {},
     "source": [
      "This cell creates the standard poem."
     ]
    },
    {
     "cell_type": "code",
     "collapsed": false,
     "input": [
      "import re\n",
      "numlines = random.randint(3,8)\n",
      "counter = 1\n",
      "while counter <= numlines:\n",
      "    line = random.choice(verse_patterns)\n",
      "    rcount = 1\n",
      "    while rcount <= 4:\n",
      "        line = re.sub('1',random.choice(concrete_nouns),line,1)\n",
      "        line = re.sub('2',random.choice(abstract_nouns),line,1)\n",
      "        line = re.sub('3',random.choice(transitive_verbs),line,1)\n",
      "        line = re.sub('4',random.choice(intransitive_verbs),line,1)\n",
      "        line = re.sub('5',random.choice(adjectives),line,1)\n",
      "        line = re.sub('6',random.choice(adverbs),line,1)\n",
      "        line = re.sub('9',random.choice(interjections),line,1)\n",
      "        rcount = rcount + 1\n",
      "    counter = counter + 1\n",
      "    print line.capitalize()"
     ],
     "language": "python",
     "metadata": {},
     "outputs": [
      {
       "output_type": "stream",
       "stream": "stdout",
       "text": [
        "Rough, misty sails quietly command a dead, lively captain.\n",
        "Rise calmly like a cold sun.\n",
        "Why does the captain die?\n",
        "Where is the rainy sailor?\n",
        "Lively, sunny mainlands roughly love a clear, small cloud.\n"
       ]
      }
     ],
     "prompt_number": 10
    },
    {
     "cell_type": "code",
     "collapsed": false,
     "input": [
      "import re\n",
      "numlines = random.randint(3,8)\n",
      "counter = 1\n",
      "while counter <= numlines:\n",
      "    line = random.choice(verse_patterns)\n",
      "    rcount = 1\n",
      "    while rcount <= 4:\n",
      "        line = re.sub('1',random.choice(concrete_nouns),line,1)\n",
      "        line = re.sub('2',random.choice(abstract_nouns),line,1)\n",
      "        line = re.sub('3',random.choice(transitive_verbs),line,1)\n",
      "        line = re.sub('4',random.choice(intransitive_verbs),line,1)\n",
      "        line = re.sub('5',random.choice(adjectives),line,1)\n",
      "        line = re.sub('6',random.choice(adverbs),line,1)\n",
      "        line = re.sub('9',random.choice(interjections),line,1)\n",
      "        rcount = rcount + 1\n",
      "    counter = counter + 1\n",
      "    print line.capitalize()"
     ],
     "language": "python",
     "metadata": {},
     "outputs": [
      {
       "output_type": "stream",
       "stream": "stdout",
       "text": [
        "All winds view cold, stormy shores.\n",
        "All seas view misty, big suns.\n",
        "Endure swiftly like a old wave.\n"
       ]
      }
     ],
     "prompt_number": 11
    },
    {
     "cell_type": "code",
     "collapsed": false,
     "input": [
      "import re\n",
      "numlines = random.randint(3,8)\n",
      "counter = 1\n",
      "while counter <= numlines:\n",
      "    line = random.choice(verse_patterns)\n",
      "    rcount = 1\n",
      "    while rcount <= 4:\n",
      "        line = re.sub('1',random.choice(concrete_nouns),line,1)\n",
      "        line = re.sub('2',random.choice(abstract_nouns),line,1)\n",
      "        line = re.sub('3',random.choice(transitive_verbs),line,1)\n",
      "        line = re.sub('4',random.choice(intransitive_verbs),line,1)\n",
      "        line = re.sub('5',random.choice(adjectives),line,1)\n",
      "        line = re.sub('6',random.choice(adverbs),line,1)\n",
      "        line = re.sub('9',random.choice(interjections),line,1)\n",
      "        rcount = rcount + 1\n",
      "    counter = counter + 1\n",
      "    print line.capitalize()"
     ],
     "language": "python",
     "metadata": {},
     "outputs": [
      {
       "output_type": "stream",
       "stream": "stdout",
       "text": [
        "Why does the mainland die?\n",
        "Grow swiftly like a rough breeze.\n",
        "Endurance, endurance, and desolation.\n",
        "Why does the pirate rise?\n",
        "Why does the tuna wave?\n"
       ]
      }
     ],
     "prompt_number": 12
    },
    {
     "cell_type": "heading",
     "level": 4,
     "metadata": {},
     "source": [
      "This is a new string of verse patterns that begins with my newly created one. ('9, the 5 1 is going to 3 6')"
     ]
    },
    {
     "cell_type": "code",
     "collapsed": false,
     "input": [
      "verse_patterns = [ '9, the 5 1 is going to 3 6.','The 5 1 6 3s the 1.', '5, 5 1s 6 3 a 5, 5 1.','2 is a 5 1.', '9, 2!', '1s 4!', 'The 1 4s like a 5 1.','1s 4 like 5 1s.', 'Why does the 1 4?', '4 6 like a 5 1.','2, 2, and 2.', 'Where is the 5 1?', 'All 1s 3 5, 5 1s.','Never 3 a 1.']"
     ],
     "language": "python",
     "metadata": {},
     "outputs": [],
     "prompt_number": 13
    },
    {
     "cell_type": "heading",
     "level": 4,
     "metadata": {},
     "source": [
      "Three poems that contain the line I created as a randomly placed line in the poem."
     ]
    },
    {
     "cell_type": "code",
     "collapsed": false,
     "input": [
      "import re\n",
      "numlines = random.randint(3,8)\n",
      "counter = 1\n",
      "userline = random.randint(1,numlines)\n",
      "while counter <= numlines:\n",
      "    if counter == userline:\n",
      "        line = verse_patterns[0]\n",
      "    else:\n",
      "        line = random.choice(verse_patterns)\n",
      "    rcount = 1\n",
      "    while rcount <= 4:\n",
      "        line = re.sub('1',random.choice(concrete_nouns),line,1)\n",
      "        line = re.sub('2',random.choice(abstract_nouns),line,1)\n",
      "        line = re.sub('3',random.choice(transitive_verbs),line,1)\n",
      "        line = re.sub('4',random.choice(intransitive_verbs),line,1)\n",
      "        line = re.sub('5',random.choice(adjectives),line,1)\n",
      "        line = re.sub('6',random.choice(adverbs),line,1)\n",
      "        line = re.sub('9',random.choice(interjections),line,1)\n",
      "        rcount = rcount + 1\n",
      "    counter = counter + 1\n",
      "    print line.capitalize()"
     ],
     "language": "python",
     "metadata": {},
     "outputs": [
      {
       "output_type": "stream",
       "stream": "stdout",
       "text": [
        "Why does the pirate wave?\n",
        "Oo, faith!\n",
        "O, the old ship is going to view swiftly.\n",
        "The seashell waves like a rough ship.\n"
       ]
      }
     ],
     "prompt_number": 14
    },
    {
     "cell_type": "code",
     "collapsed": false,
     "input": [
      "import re\n",
      "numlines = random.randint(3,8)\n",
      "counter = 1\n",
      "userline = random.randint(1,numlines)\n",
      "while counter <= numlines:\n",
      "    if counter == userline:\n",
      "        line = verse_patterns[0]\n",
      "    else:\n",
      "        line = random.choice(verse_patterns)\n",
      "    rcount = 1\n",
      "    while rcount <= 4:\n",
      "        line = re.sub('1',random.choice(concrete_nouns),line,1)\n",
      "        line = re.sub('2',random.choice(abstract_nouns),line,1)\n",
      "        line = re.sub('3',random.choice(transitive_verbs),line,1)\n",
      "        line = re.sub('4',random.choice(intransitive_verbs),line,1)\n",
      "        line = re.sub('5',random.choice(adjectives),line,1)\n",
      "        line = re.sub('6',random.choice(adverbs),line,1)\n",
      "        line = re.sub('9',random.choice(interjections),line,1)\n",
      "        rcount = rcount + 1\n",
      "    counter = counter + 1\n",
      "    print line.capitalize()"
     ],
     "language": "python",
     "metadata": {},
     "outputs": [
      {
       "output_type": "stream",
       "stream": "stdout",
       "text": [
        "God, the stormy girl is going to pull calmly.\n",
        "Adventure is a small whale.\n",
        "God, desolation!\n",
        "Death is a rough mainland.\n",
        "Never love a pirate.\n"
       ]
      }
     ],
     "prompt_number": 15
    },
    {
     "cell_type": "code",
     "collapsed": false,
     "input": [
      "import re\n",
      "numlines = random.randint(3,8)\n",
      "counter = 1\n",
      "userline = random.randint(1,numlines)\n",
      "while counter <= numlines:\n",
      "    if counter == userline:\n",
      "        line = verse_patterns[0]\n",
      "    else:\n",
      "        line = random.choice(verse_patterns)\n",
      "    rcount = 1\n",
      "    while rcount <= 4:\n",
      "        line = re.sub('1',random.choice(concrete_nouns),line,1)\n",
      "        line = re.sub('2',random.choice(abstract_nouns),line,1)\n",
      "        line = re.sub('3',random.choice(transitive_verbs),line,1)\n",
      "        line = re.sub('4',random.choice(intransitive_verbs),line,1)\n",
      "        line = re.sub('5',random.choice(adjectives),line,1)\n",
      "        line = re.sub('6',random.choice(adverbs),line,1)\n",
      "        line = re.sub('9',random.choice(interjections),line,1)\n",
      "        rcount = rcount + 1\n",
      "    counter = counter + 1\n",
      "    print line.capitalize()"
     ],
     "language": "python",
     "metadata": {},
     "outputs": [
      {
       "output_type": "stream",
       "stream": "stdout",
       "text": [
        "Ooh, the cold sun is going to love roughly.\n",
        "The old sea quietly fights the breeze.\n",
        "All mainlands command dead, misty moons.\n",
        "The seashell falls like a cold girl.\n"
       ]
      }
     ],
     "prompt_number": 16
    },
    {
     "cell_type": "code",
     "collapsed": false,
     "input": [],
     "language": "python",
     "metadata": {},
     "outputs": [],
     "prompt_number": 16
    }
   ],
   "metadata": {}
  }
 ]
}