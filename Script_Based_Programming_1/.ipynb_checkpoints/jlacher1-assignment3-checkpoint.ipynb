{
 "metadata": {
  "name": "",
  "signature": "sha256:e9ab861897dd53179cd54e77a2e0b695859dfd5055040ddaac88fa881193fcbd"
 },
 "nbformat": 3,
 "nbformat_minor": 0,
 "worksheets": [
  {
   "cells": [
    {
     "cell_type": "heading",
     "level": 1,
     "metadata": {},
     "source": [
      "CSE 10101 Assignment 3"
     ]
    },
    {
     "cell_type": "heading",
     "level": 2,
     "metadata": {},
     "source": [
      "Patrick Lacher (jlacher1@nd.edu)"
     ]
    },
    {
     "cell_type": "code",
     "collapsed": false,
     "input": [
      "import random"
     ],
     "language": "python",
     "metadata": {},
     "outputs": [],
     "prompt_number": 1
    },
    {
     "cell_type": "heading",
     "level": 4,
     "metadata": {},
     "source": [
      "This cell creates the potential verses for the generated poetry. "
     ]
    },
    {
     "cell_type": "code",
     "collapsed": false,
     "input": [
      "verse_patterns = [ 'The 5 1 6 3s the 1.', '5, 5 1s 6 3 a 5, 5 1.','2 is a 5 1.', '9, 2!', '1s 4!', 'The 1 4s like a 5 1.','1s 4 like 5 1s.', 'Why does the 1 4?', '4 6 like a 5 1.','2, 2, and 2.', 'Where is the 5 1?', 'All 1s 3 5, 5 1s.','Never 3 a 1.']"
     ],
     "language": "python",
     "metadata": {},
     "outputs": [],
     "prompt_number": 2
    },
    {
     "cell_type": "heading",
     "level": 4,
     "metadata": {},
     "source": [
      "These cells serve as the database of possible poetry elements."
     ]
    },
    {
     "cell_type": "code",
     "collapsed": false,
     "input": [
      "#1\n",
      "concrete_nouns = ['sea', 'ship', 'sail', 'wind', 'breeze','wave', 'cloud', 'mast', 'captain', 'sailor', 'shark','whale', 'tuna', 'seashell', 'pirate', 'lad', 'girl','gull', 'reef', 'shore', 'mainland', 'moon', 'sun']"
     ],
     "language": "python",
     "metadata": {},
     "outputs": [],
     "prompt_number": 3
    },
    {
     "cell_type": "code",
     "collapsed": false,
     "input": [
      "#2\n",
      "abstract_nouns = ['adventure', 'courage','endurance', 'desolation', 'death', 'life','love', 'faith']"
     ],
     "language": "python",
     "metadata": {},
     "outputs": [],
     "prompt_number": 4
    },
    {
     "cell_type": "code",
     "collapsed": false,
     "input": [
      "#3\n",
      "transitive_verbs = ['command', 'view', 'lead','pull', 'love', 'desire', 'fight']"
     ],
     "language": "python",
     "metadata": {},
     "outputs": [],
     "prompt_number": 11
    },
    {
     "cell_type": "code",
     "collapsed": false,
     "input": [
      "#4\n",
      "intransitive_verbs = ['travel', 'sail', 'wave','grow', 'rise', 'fall', 'endure', 'die']"
     ],
     "language": "python",
     "metadata": {},
     "outputs": [],
     "prompt_number": 6
    },
    {
     "cell_type": "code",
     "collapsed": false,
     "input": [
      "#5\n",
      "adjectives = ['big', 'small', 'old', 'cold','warm', 'sunny', 'rainy', 'misty', 'clear','stormy', 'rough', 'lively', 'dead']"
     ],
     "language": "python",
     "metadata": {},
     "outputs": [],
     "prompt_number": 7
    },
    {
     "cell_type": "code",
     "collapsed": false,
     "input": [
      "#6\n",
      "adverbs = ['swiftly', 'calmly', 'quietly','roughly']"
     ],
     "language": "python",
     "metadata": {},
     "outputs": [],
     "prompt_number": 8
    },
    {
     "cell_type": "code",
     "collapsed": false,
     "input": [
      "#9\n",
      "interjections = ['o', 'oo', 'ooh', 'ah', 'lord','god', 'wow', 'golly gosh', 'shiver me timbers']"
     ],
     "language": "python",
     "metadata": {},
     "outputs": [],
     "prompt_number": 9
    },
    {
     "cell_type": "heading",
     "level": 4,
     "metadata": {},
     "source": [
      "This cell creates the standard poem."
     ]
    },
    {
     "cell_type": "code",
     "collapsed": false,
     "input": [
      "import re\n",
      "numlines = random.randint(3,8)\n",
      "counter = 1\n",
      "while counter <= numlines:\n",
      "    line = random.choice(verse_patterns)\n",
      "    rcount = 1\n",
      "    while rcount <= 4:\n",
      "        line = re.sub('1',random.choice(concrete_nouns),line,1)\n",
      "        line = re.sub('2',random.choice(abstract_nouns),line,1)\n",
      "        line = re.sub('3',random.choice(transitive_verbs),line,1)\n",
      "        line = re.sub('4',random.choice(intransitive_verbs),line,1)\n",
      "        line = re.sub('5',random.choice(adjectives),line,1)\n",
      "        line = re.sub('6',random.choice(adverbs),line,1)\n",
      "        line = re.sub('9',random.choice(interjections),line,1)\n",
      "        rcount = rcount + 1\n",
      "    counter = counter + 1\n",
      "    print line.capitalize()"
     ],
     "language": "python",
     "metadata": {},
     "outputs": [
      {
       "output_type": "stream",
       "stream": "stdout",
       "text": [
        "Never desire a shark.\n",
        "God, life!\n",
        "Die calmly like a warm pirate.\n"
       ]
      }
     ],
     "prompt_number": 61
    },
    {
     "cell_type": "code",
     "collapsed": false,
     "input": [
      "import re\n",
      "numlines = random.randint(3,8)\n",
      "counter = 1\n",
      "while counter <= numlines:\n",
      "    line = random.choice(verse_patterns)\n",
      "    rcount = 1\n",
      "    while rcount <= 4:\n",
      "        line = re.sub('1',random.choice(concrete_nouns),line,1)\n",
      "        line = re.sub('2',random.choice(abstract_nouns),line,1)\n",
      "        line = re.sub('3',random.choice(transitive_verbs),line,1)\n",
      "        line = re.sub('4',random.choice(intransitive_verbs),line,1)\n",
      "        line = re.sub('5',random.choice(adjectives),line,1)\n",
      "        line = re.sub('6',random.choice(adverbs),line,1)\n",
      "        line = re.sub('9',random.choice(interjections),line,1)\n",
      "        rcount = rcount + 1\n",
      "    counter = counter + 1\n",
      "    print line.capitalize()"
     ],
     "language": "python",
     "metadata": {},
     "outputs": [
      {
       "output_type": "stream",
       "stream": "stdout",
       "text": [
        "Travel swiftly like a cold captain.\n",
        "The gull rises like a small pirate.\n",
        "All sailors fight warm, dead seashells.\n",
        "Stormy, clear winds roughly desire a stormy, misty shark.\n"
       ]
      }
     ],
     "prompt_number": 62
    },
    {
     "cell_type": "code",
     "collapsed": false,
     "input": [
      "import re\n",
      "numlines = random.randint(3,8)\n",
      "counter = 1\n",
      "while counter <= numlines:\n",
      "    line = random.choice(verse_patterns)\n",
      "    rcount = 1\n",
      "    while rcount <= 4:\n",
      "        line = re.sub('1',random.choice(concrete_nouns),line,1)\n",
      "        line = re.sub('2',random.choice(abstract_nouns),line,1)\n",
      "        line = re.sub('3',random.choice(transitive_verbs),line,1)\n",
      "        line = re.sub('4',random.choice(intransitive_verbs),line,1)\n",
      "        line = re.sub('5',random.choice(adjectives),line,1)\n",
      "        line = re.sub('6',random.choice(adverbs),line,1)\n",
      "        line = re.sub('9',random.choice(interjections),line,1)\n",
      "        rcount = rcount + 1\n",
      "    counter = counter + 1\n",
      "    print line.capitalize()"
     ],
     "language": "python",
     "metadata": {},
     "outputs": [
      {
       "output_type": "stream",
       "stream": "stdout",
       "text": [
        "Golly gosh, love!\n",
        "The lad waves like a warm sail.\n",
        "Rainy, big tunas calmly desire a cold, cold wind.\n",
        "The stormy reef quietly commands the shore.\n",
        "Travel quietly like a rough sea.\n",
        "The breeze falls like a clear breeze.\n",
        "Death is a old pirate.\n",
        "Adventure is a small mast.\n"
       ]
      }
     ],
     "prompt_number": 63
    },
    {
     "cell_type": "heading",
     "level": 4,
     "metadata": {},
     "source": [
      "This is a new string of verse patterns that begins with my newly created one. ('9, the 5 1 is going to 3 6')"
     ]
    },
    {
     "cell_type": "code",
     "collapsed": false,
     "input": [
      "verse_patterns = [ '9, the 5 1 is going to 3 6.','The 5 1 6 3s the 1.', '5, 5 1s 6 3 a 5, 5 1.','2 is a 5 1.', '9, 2!', '1s 4!', 'The 1 4s like a 5 1.','1s 4 like 5 1s.', 'Why does the 1 4?', '4 6 like a 5 1.','2, 2, and 2.', 'Where is the 5 1?', 'All 1s 3 5, 5 1s.','Never 3 a 1.']"
     ],
     "language": "python",
     "metadata": {},
     "outputs": [],
     "prompt_number": 75
    },
    {
     "cell_type": "heading",
     "level": 4,
     "metadata": {},
     "source": [
      "Three poems that contain the line I created as a randomly placed line in the poem."
     ]
    },
    {
     "cell_type": "code",
     "collapsed": false,
     "input": [
      "import re\n",
      "numlines = random.randint(3,8)\n",
      "counter = 1\n",
      "userline = random.randint(1,numlines)\n",
      "while counter <= numlines:\n",
      "    if counter == userline:\n",
      "        line = verse_patterns[0]\n",
      "    else:\n",
      "        line = random.choice(verse_patterns)\n",
      "    rcount = 1\n",
      "    while rcount <= 4:\n",
      "        line = re.sub('1',random.choice(concrete_nouns),line,1)\n",
      "        line = re.sub('2',random.choice(abstract_nouns),line,1)\n",
      "        line = re.sub('3',random.choice(transitive_verbs),line,1)\n",
      "        line = re.sub('4',random.choice(intransitive_verbs),line,1)\n",
      "        line = re.sub('5',random.choice(adjectives),line,1)\n",
      "        line = re.sub('6',random.choice(adverbs),line,1)\n",
      "        line = re.sub('9',random.choice(interjections),line,1)\n",
      "        rcount = rcount + 1\n",
      "    counter = counter + 1\n",
      "    print line.capitalize()"
     ],
     "language": "python",
     "metadata": {},
     "outputs": [
      {
       "output_type": "stream",
       "stream": "stdout",
       "text": [
        "The dead pirate calmly commands the shark.\n",
        "Big, rainy sailors quietly view a rainy, warm sun.\n",
        "Golly gosh, the cold cloud is going to desire roughly.\n",
        "Seas die like rough gulls.\n",
        "The sun dies like a small sea.\n"
       ]
      }
     ],
     "prompt_number": 76
    },
    {
     "cell_type": "code",
     "collapsed": false,
     "input": [
      "import re\n",
      "numlines = random.randint(3,8)\n",
      "counter = 1\n",
      "userline = random.randint(1,numlines)\n",
      "while counter <= numlines:\n",
      "    if counter == userline:\n",
      "        line = verse_patterns[0]\n",
      "    else:\n",
      "        line = random.choice(verse_patterns)\n",
      "    rcount = 1\n",
      "    while rcount <= 4:\n",
      "        line = re.sub('1',random.choice(concrete_nouns),line,1)\n",
      "        line = re.sub('2',random.choice(abstract_nouns),line,1)\n",
      "        line = re.sub('3',random.choice(transitive_verbs),line,1)\n",
      "        line = re.sub('4',random.choice(intransitive_verbs),line,1)\n",
      "        line = re.sub('5',random.choice(adjectives),line,1)\n",
      "        line = re.sub('6',random.choice(adverbs),line,1)\n",
      "        line = re.sub('9',random.choice(interjections),line,1)\n",
      "        rcount = rcount + 1\n",
      "    counter = counter + 1\n",
      "    print line.capitalize()"
     ],
     "language": "python",
     "metadata": {},
     "outputs": [
      {
       "output_type": "stream",
       "stream": "stdout",
       "text": [
        "Ah, faith!\n",
        "Faith is a cold whale.\n",
        "Why does the sea grow?\n",
        "Never pull a shark.\n",
        "Wow, the lively shore is going to lead swiftly.\n",
        "Oo, the misty lad is going to lead calmly.\n"
       ]
      }
     ],
     "prompt_number": 77
    },
    {
     "cell_type": "code",
     "collapsed": false,
     "input": [
      "import re\n",
      "numlines = random.randint(3,8)\n",
      "counter = 1\n",
      "userline = random.randint(1,numlines)\n",
      "while counter <= numlines:\n",
      "    if counter == userline:\n",
      "        line = verse_patterns[0]\n",
      "    else:\n",
      "        line = random.choice(verse_patterns)\n",
      "    rcount = 1\n",
      "    while rcount <= 4:\n",
      "        line = re.sub('1',random.choice(concrete_nouns),line,1)\n",
      "        line = re.sub('2',random.choice(abstract_nouns),line,1)\n",
      "        line = re.sub('3',random.choice(transitive_verbs),line,1)\n",
      "        line = re.sub('4',random.choice(intransitive_verbs),line,1)\n",
      "        line = re.sub('5',random.choice(adjectives),line,1)\n",
      "        line = re.sub('6',random.choice(adverbs),line,1)\n",
      "        line = re.sub('9',random.choice(interjections),line,1)\n",
      "        rcount = rcount + 1\n",
      "    counter = counter + 1\n",
      "    print line.capitalize()"
     ],
     "language": "python",
     "metadata": {},
     "outputs": [
      {
       "output_type": "stream",
       "stream": "stdout",
       "text": [
        "Ooh, the old lad is going to view swiftly.\n",
        "The girl travels like a clear tuna.\n",
        "Breezes endure like misty suns.\n",
        "All mainlands view lively, warm girls.\n",
        "Never desire a reef.\n",
        "Where is the misty pirate?\n",
        "Breezes fall like rainy seashells.\n"
       ]
      }
     ],
     "prompt_number": 78
    },
    {
     "cell_type": "code",
     "collapsed": false,
     "input": [],
     "language": "python",
     "metadata": {},
     "outputs": []
    }
   ],
   "metadata": {}
  }
 ]
}