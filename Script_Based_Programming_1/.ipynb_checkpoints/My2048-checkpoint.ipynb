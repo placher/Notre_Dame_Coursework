{
 "metadata": {
  "name": "",
  "signature": "sha256:f22c931861f5f3e89e911e30ef8c76976db982c9335148737be1afda537d92a8"
 },
 "nbformat": 3,
 "nbformat_minor": 0,
 "worksheets": [
  {
   "cells": [
    {
     "cell_type": "markdown",
     "metadata": {},
     "source": [
      "#2048 Tournament Notebook#\n",
      "\n",
      "#J. Patrick Lacher#\n",
      "#jlacher1@nd.edu#"
     ]
    },
    {
     "cell_type": "markdown",
     "metadata": {},
     "source": [
      "Perform the necessary imports.\n",
      "Go to github, if necessary, to get py2k.py"
     ]
    },
    {
     "cell_type": "code",
     "collapsed": false,
     "input": [
      "import os\n",
      "if not os.path.exists('py2k.py'):\n",
      "    import urllib\n",
      "    urllib.urlretrieve('http://patrick-flynn.github.io/code/py2k/py2k.py','py2k.py')\n",
      "import py2k\n",
      "import random"
     ],
     "language": "python",
     "metadata": {},
     "outputs": [],
     "prompt_number": 1
    },
    {
     "cell_type": "markdown",
     "metadata": {},
     "source": [
      "Initialization.  Get a \"game object\" that will manage the game for us."
     ]
    },
    {
     "cell_type": "code",
     "collapsed": false,
     "input": [
      "game = py2k.Py2k()"
     ],
     "language": "python",
     "metadata": {},
     "outputs": [],
     "prompt_number": 2
    },
    {
     "cell_type": "markdown",
     "metadata": {},
     "source": [
      "## Your strategy goes in the next cell##\n",
      "\n",
      "The strategy currently implemented is totally simple. If it can go left, it goes left. If not, but right works, it goes right. If not, but up works, it goes up. If not, it goes down.\n",
      "\n",
      "Note: if this function gets called, you know at least _one_ of the directions works. Why?\n",
      "\n",
      "You can do better (I _know_ you can).\n",
      "In your strategy, you can\n",
      "+ get the value stored in any cell (`game.getboard(r,c)`).\n",
      "+ figure out how much the score would increase if you made a specific move (`game.deltascore(c)`, where `c` is the move character ('l','r','u','d').\n",
      "+ save the game (`game.push()`) so that you can speculatively play forward more than one move, accumulating a series of moves, and then 'back up' to where you were (`game.pop()`) so that you can perform those moves. This is an advanced technique and you might check with Prof. Flynn or the TAs about how to do this.\n",
      "\n",
      "A suggestion: you could first determine which moves are open to you. If there's only one, well your choice is easy. If more than one, try to figure out a _good_ one."
     ]
    },
    {
     "cell_type": "code",
     "collapsed": false,
     "input": [
      "def strategy(g):\n",
      "    global control\n",
      "    global movecount\n",
      "    if movecount < 15:\n",
      "        if control == 1:\n",
      "            if g.validmove('u'):\n",
      "                movecount = movecount + 1\n",
      "                control = 2\n",
      "                return 'u'\n",
      "            elif g.validmove('l'):\n",
      "                movecount = movecount + 1\n",
      "                control = 1\n",
      "                return 'l'\n",
      "            elif g.validmove('r'):\n",
      "                movecount = 0\n",
      "                control = 1\n",
      "                return 'r'\n",
      "            else:\n",
      "                movecount = 0\n",
      "                control = 1\n",
      "                return 'd'\n",
      "        else:\n",
      "            if g.validmove('l'):\n",
      "                movecount = movecount + 1\n",
      "                control = 1\n",
      "                return 'l'\n",
      "            elif g.validmove('u'):\n",
      "                movecount = movecount + 1\n",
      "                control = 2\n",
      "                return 'u'\n",
      "            elif g.validmove('r'):\n",
      "                movecount = 0\n",
      "                control = 1\n",
      "                return 'r'\n",
      "            else:\n",
      "                movecount = 0\n",
      "                control = 1\n",
      "                return 'd'\n",
      "    else:\n",
      "        movecount = 0\n",
      "        control = 1\n",
      "        return 'r'"
     ],
     "language": "python",
     "metadata": {},
     "outputs": [],
     "prompt_number": 3
    },
    {
     "cell_type": "markdown",
     "metadata": {},
     "source": [
      "##Finally, the game.##\n",
      "The cell below plays a game from start to end. The game object must exist, and so must a `strategy(game)` function to pick a move based on the game's state.\n",
      "\n",
      "When the game is over,\n",
      "`nmoves` contains the number of moves made, and `game.getscore()` will give you the score at the end.\n",
      "\n",
      "If you want a printout of the game play after each move, set verbose to True."
     ]
    },
    {
     "cell_type": "code",
     "collapsed": false,
     "input": [
      "verbose = False\n",
      "control = 1\n",
      "movecount = 0\n",
      "\n",
      "game.clearboardandscore()\n",
      "game.push()   # capture state of game for head-to-head competition against bot.\n",
      "game.addnumber()   # place initial 2s on board.\n",
      "game.addnumber()\n",
      "nmoves = 0\n",
      "if verbose:\n",
      "    print 'Initial state of game:'\n",
      "    game.printboard()\n",
      "    print 'score: ',game.getscore()\n",
      "# play the game until it's done.\n",
      "while not game.lose():\n",
      "    # get a valid move (keep trying)\n",
      "    move = strategy(game)\n",
      "    while not game.validmove(move):\n",
      "        move = strategy(game)\n",
      "    game.move(move)\n",
      "    game.addnumber()\n",
      "    if (verbose):\n",
      "        print 'move is: ',move\n",
      "        print 'score: ',game.getscore()\n",
      "        game.printboard()\n",
      "    nmoves = nmoves + 1\n",
      "if verbose:\n",
      "    print nmoves,' moves were made.'\n",
      "    print 'final score: ',game.getscore()"
     ],
     "language": "python",
     "metadata": {},
     "outputs": [],
     "prompt_number": 4
    },
    {
     "cell_type": "code",
     "collapsed": false,
     "input": [
      "nmoves"
     ],
     "language": "python",
     "metadata": {},
     "outputs": [
      {
       "metadata": {},
       "output_type": "pyout",
       "prompt_number": 5,
       "text": [
        "252"
       ]
      }
     ],
     "prompt_number": 5
    },
    {
     "cell_type": "code",
     "collapsed": false,
     "input": [
      "game.getscore()"
     ],
     "language": "python",
     "metadata": {},
     "outputs": [
      {
       "metadata": {},
       "output_type": "pyout",
       "prompt_number": 6,
       "text": [
        "2712"
       ]
      }
     ],
     "prompt_number": 6
    },
    {
     "cell_type": "markdown",
     "metadata": {},
     "source": [
      "## The randombot##\n",
      "\n",
      "The randombot chooses a direction at random.  Since the randombot consumes more random numbers than the deterministic strategy above, I'm taking pains to save the random number state by using the `game.push()` and `game.pop()` methods."
     ]
    },
    {
     "cell_type": "code",
     "collapsed": false,
     "input": [
      "verbose = False\n",
      "\n",
      "game.clearboardandscore()\n",
      "game.push()   # capture state of game for head-to-head competition against bot.\n",
      "game.addnumber()   # place initial 2s on board.\n",
      "game.addnumber()\n",
      "nmoves = 0\n",
      "if verbose:\n",
      "    print 'Initial state of game:'\n",
      "    game.printboard()\n",
      "    print 'score: ',game.getscore()\n",
      "# play the game until it's done.\n",
      "while not game.lose():\n",
      "    # get a valid move (keep trying)\n",
      "    move = random.choice('udlr')\n",
      "    while not game.validmove(move):\n",
      "        game.push()\n",
      "        move = random.choice('udlr')\n",
      "        game.pop()\n",
      "    game.move(move)\n",
      "    game.addnumber()\n",
      "    if (verbose):\n",
      "        print 'move is: ',move\n",
      "        print 'score: ',game.getscore()\n",
      "        game.printboard()\n",
      "    nmoves = nmoves + 1\n",
      "if verbose:\n",
      "    print nmoves,' moves were made.'\n",
      "    print 'final score: ',game.getscore()"
     ],
     "language": "python",
     "metadata": {},
     "outputs": [
      {
       "ename": "KeyboardInterrupt",
       "evalue": "",
       "output_type": "pyerr",
       "traceback": [
        "\u001b[1;31m---------------------------------------------------------------------------\u001b[0m\n\u001b[1;31mKeyboardInterrupt\u001b[0m                         Traceback (most recent call last)",
        "\u001b[1;32m<ipython-input-7-4ece61af51a0>\u001b[0m in \u001b[0;36m<module>\u001b[1;34m()\u001b[0m\n\u001b[0;32m     14\u001b[0m     \u001b[1;31m# get a valid move (keep trying)\u001b[0m\u001b[1;33m\u001b[0m\u001b[1;33m\u001b[0m\u001b[0m\n\u001b[0;32m     15\u001b[0m     \u001b[0mmove\u001b[0m \u001b[1;33m=\u001b[0m \u001b[0mrandom\u001b[0m\u001b[1;33m.\u001b[0m\u001b[0mchoice\u001b[0m\u001b[1;33m(\u001b[0m\u001b[1;34m'udlr'\u001b[0m\u001b[1;33m)\u001b[0m\u001b[1;33m\u001b[0m\u001b[0m\n\u001b[1;32m---> 16\u001b[1;33m     \u001b[1;32mwhile\u001b[0m \u001b[1;32mnot\u001b[0m \u001b[0mgame\u001b[0m\u001b[1;33m.\u001b[0m\u001b[0mvalidmove\u001b[0m\u001b[1;33m(\u001b[0m\u001b[0mmove\u001b[0m\u001b[1;33m)\u001b[0m\u001b[1;33m:\u001b[0m\u001b[1;33m\u001b[0m\u001b[0m\n\u001b[0m\u001b[0;32m     17\u001b[0m         \u001b[0mgame\u001b[0m\u001b[1;33m.\u001b[0m\u001b[0mpush\u001b[0m\u001b[1;33m(\u001b[0m\u001b[1;33m)\u001b[0m\u001b[1;33m\u001b[0m\u001b[0m\n\u001b[0;32m     18\u001b[0m         \u001b[0mmove\u001b[0m \u001b[1;33m=\u001b[0m \u001b[0mrandom\u001b[0m\u001b[1;33m.\u001b[0m\u001b[0mchoice\u001b[0m\u001b[1;33m(\u001b[0m\u001b[1;34m'udlr'\u001b[0m\u001b[1;33m)\u001b[0m\u001b[1;33m\u001b[0m\u001b[0m\n",
        "\u001b[1;32mC:\\Users\\Patrick\\Documents\\Freshman Year (2014-2015)\\Computer Science Engineering 10101\\iPython Notebooks\\py2k.pyc\u001b[0m in \u001b[0;36mvalidmove\u001b[1;34m(self, dir)\u001b[0m\n\u001b[0;32m     92\u001b[0m                 \u001b[0mrco\u001b[0m \u001b[1;33m=\u001b[0m \u001b[0mself\u001b[0m\u001b[1;33m.\u001b[0m\u001b[0moffsetcoord\u001b[0m\u001b[1;33m(\u001b[0m\u001b[0mr\u001b[0m\u001b[1;33m,\u001b[0m\u001b[0mc\u001b[0m\u001b[1;33m,\u001b[0m\u001b[0mdir\u001b[0m\u001b[1;33m[\u001b[0m\u001b[1;36m0\u001b[0m\u001b[1;33m]\u001b[0m\u001b[1;33m,\u001b[0m\u001b[0mdir\u001b[0m\u001b[1;33m[\u001b[0m\u001b[1;36m1\u001b[0m\u001b[1;33m]\u001b[0m\u001b[1;33m)\u001b[0m\u001b[1;33m\u001b[0m\u001b[0m\n\u001b[0;32m     93\u001b[0m                 \u001b[1;32mif\u001b[0m \u001b[0mself\u001b[0m\u001b[1;33m.\u001b[0m\u001b[0mvalidcoords\u001b[0m\u001b[1;33m(\u001b[0m\u001b[0mrco\u001b[0m\u001b[1;33m[\u001b[0m\u001b[1;36m0\u001b[0m\u001b[1;33m]\u001b[0m\u001b[1;33m,\u001b[0m\u001b[0mrco\u001b[0m\u001b[1;33m[\u001b[0m\u001b[1;36m1\u001b[0m\u001b[1;33m]\u001b[0m\u001b[1;33m)\u001b[0m\u001b[1;33m:\u001b[0m\u001b[1;33m\u001b[0m\u001b[0m\n\u001b[1;32m---> 94\u001b[1;33m                     \u001b[1;32mif\u001b[0m \u001b[0mself\u001b[0m\u001b[1;33m.\u001b[0m\u001b[0mgetboard\u001b[0m\u001b[1;33m(\u001b[0m\u001b[0mr\u001b[0m\u001b[1;33m,\u001b[0m\u001b[0mc\u001b[0m\u001b[1;33m)\u001b[0m \u001b[1;33m==\u001b[0m \u001b[0mself\u001b[0m\u001b[1;33m.\u001b[0m\u001b[0mgetboard\u001b[0m\u001b[1;33m(\u001b[0m\u001b[0mrco\u001b[0m\u001b[1;33m[\u001b[0m\u001b[1;36m0\u001b[0m\u001b[1;33m]\u001b[0m\u001b[1;33m,\u001b[0m\u001b[0mrco\u001b[0m\u001b[1;33m[\u001b[0m\u001b[1;36m1\u001b[0m\u001b[1;33m]\u001b[0m\u001b[1;33m)\u001b[0m\u001b[1;33m:\u001b[0m\u001b[1;33m\u001b[0m\u001b[0m\n\u001b[0m\u001b[0;32m     95\u001b[0m                         \u001b[1;32mreturn\u001b[0m \u001b[0mTrue\u001b[0m\u001b[1;33m\u001b[0m\u001b[0m\n\u001b[0;32m     96\u001b[0m                     \u001b[1;32mif\u001b[0m \u001b[0mself\u001b[0m\u001b[1;33m.\u001b[0m\u001b[0mgetboard\u001b[0m\u001b[1;33m(\u001b[0m\u001b[0mrco\u001b[0m\u001b[1;33m[\u001b[0m\u001b[1;36m0\u001b[0m\u001b[1;33m]\u001b[0m\u001b[1;33m,\u001b[0m\u001b[0mrco\u001b[0m\u001b[1;33m[\u001b[0m\u001b[1;36m1\u001b[0m\u001b[1;33m]\u001b[0m\u001b[1;33m)\u001b[0m \u001b[1;33m==\u001b[0m \u001b[1;36m0\u001b[0m\u001b[1;33m:\u001b[0m\u001b[1;33m\u001b[0m\u001b[0m\n",
        "\u001b[1;31mKeyboardInterrupt\u001b[0m: "
       ]
      }
     ],
     "prompt_number": 7
    },
    {
     "cell_type": "markdown",
     "metadata": {},
     "source": [
      "##What you need to do##\n",
      "\n",
      "Edit this cell, entering your answers to each question.\n",
      "\n",
      "1. Name:  J. Patrick Lacher\n",
      "\n",
      "2. NetID: jlacher1@nd.edu\n",
      "\n",
      "3. My strategy attempts to build only into the upper left-hand corner by laternating moves up and left. After a number of attempts, I determined that the code would tend to eventually get \"stuck\" where it thought moves were possible in the up or left direction when that was not in fact the case. To avoid this happening, the program automatically makes a move right for 15 up/left moves it makes in sequence.\n",
      "\n",
      "4. def strategy(g):\n",
      "    global control\n",
      "    global movecount\n",
      "    if movecount < 15:\n",
      "        if control == 1:\n",
      "            if g.validmove('u'):\n",
      "                movecount = movecount + 1\n",
      "                control = 2\n",
      "                return 'u'\n",
      "            elif g.validmove('l'):\n",
      "                movecount = movecount + 1\n",
      "                control = 1\n",
      "                return 'l'\n",
      "            elif g.validmove('r'):\n",
      "                movecount = 0\n",
      "                control = 1\n",
      "                return 'r'\n",
      "            else:\n",
      "                movecount = 0\n",
      "                control = 1\n",
      "                return 'd'\n",
      "        else:\n",
      "            if g.validmove('l'):\n",
      "                movecount = movecount + 1\n",
      "                control = 1\n",
      "                return 'l'\n",
      "            elif g.validmove('u'):\n",
      "                movecount = movecount + 1\n",
      "                control = 2\n",
      "                return 'u'\n",
      "            elif g.validmove('r'):\n",
      "                movecount = 0\n",
      "                control = 1\n",
      "                return 'r'\n",
      "            else:\n",
      "                movecount = 0\n",
      "                control = 1\n",
      "                return 'd'\n",
      "    else:\n",
      "        movecount = 0\n",
      "        control = 1\n",
      "        return 'r'\n",
      "\n",
      "5. (moves,score) (240,2360) (154,1228) (312,3464) (202,1868) (458,6092) (166,1484) (298,3340) (218,2124) (188,1688) (252,2712)\n",
      "\n",
      "6. The final scores and number of moves for ten runs of the randombot."
     ]
    },
    {
     "cell_type": "code",
     "collapsed": false,
     "input": [],
     "language": "python",
     "metadata": {},
     "outputs": []
    }
   ],
   "metadata": {}
  }
 ]
}