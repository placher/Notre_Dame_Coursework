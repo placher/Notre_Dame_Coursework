{
 "metadata": {
  "name": "",
  "signature": "sha256:0807e0ba88d2228dd5fad81413e7a8938e19b7aeb7d827d753967d9a4d23f0ce"
 },
 "nbformat": 3,
 "nbformat_minor": 0,
 "worksheets": [
  {
   "cells": [
    {
     "cell_type": "markdown",
     "metadata": {},
     "source": [
      "# CSE 10101/CAPP30391#\n",
      "\n",
      "## Assignment 8: Flskhuv!##\n",
      "\n",
      "(updated Tuesday March 31, 4:00pm)\n",
      "\n",
      "This assignment is due April 7 at 2:00pm.\n",
      "\n",
      "In this assignment we're going to implement some classic ciphers that date back thousands of years.\n",
      "\n",
      "The input to an encryption program is called \"plaintext\" and the encrypted output is called \"ciphertext\"."
     ]
    },
    {
     "cell_type": "markdown",
     "metadata": {},
     "source": [
      "## Enter your name in this cell: "
     ]
    },
    {
     "cell_type": "markdown",
     "metadata": {},
     "source": [
      "##Task 1: character <-> number utilities##\n",
      "\n",
      "When encrypting text with mathematical techniques, it's easiest to treat text as a series of numbers, one per character. So you're going to need two functions to help converting between characters and numbers in your code. Luckily, Python has two functions that will help us, named `ord()` and `chr()`. Demo:"
     ]
    },
    {
     "cell_type": "code",
     "collapsed": false,
     "input": [
      "print [ord('a'), ord('b'), ord('z'), ord('A'), ord('B'), ord('Z')]"
     ],
     "language": "python",
     "metadata": {},
     "outputs": [
      {
       "output_type": "stream",
       "stream": "stdout",
       "text": [
        "[97, 98, 122, 65, 66, 90]\n"
       ]
      }
     ],
     "prompt_number": 7
    },
    {
     "cell_type": "code",
     "collapsed": false,
     "input": [
      "print [chr(97), chr(98), chr(122), chr(65), chr(66), chr(90)]"
     ],
     "language": "python",
     "metadata": {},
     "outputs": [
      {
       "output_type": "stream",
       "stream": "stdout",
       "text": [
        "['a', 'b', 'z', 'A', 'B', 'Z']\n"
       ]
      }
     ],
     "prompt_number": 8
    },
    {
     "cell_type": "markdown",
     "metadata": {},
     "source": [
      "So the `ord()` and `chr()` functions convert a character to a number, and a number to a character, respectively. The uppercase letters 'A' through 'Z' have numbers 65 through 90, and the lowercase letters 'a' through 'z' have numbers 97 through 122.\n",
      "\n",
      "You need to write two functions, `char_to_num()` and `num_to_char()` that use `ord()` and `chr()` to convert characters to numbers and _vice versa_. \n",
      "\n",
      "The `char_to_num(c)` function takes an input character `c` and outputs an integer, IF the character is an upper or lower case letter.  Your code should make use of the `ord()` function.\n",
      "\n",
      "+ the conversion from character to number ignores case: 'a' and 'A' convert to the same number.\n",
      "+ 'a' (and 'A') convert to zero.\n",
      "+ 'z' (and 'Z') convert to 25\n",
      "+ letters between 'a' and 'z' convert to the appropriate number between 0 and 25.\n",
      "+ characters not in the alphabet (e.g., @&*$%#!) cause the function to raise an exception (we provide you the code for this).\n",
      "\n",
      "The `num_to_char(n,upper=False)` function takes a number `n` and converts it to the appropriate character, IF `n` is between 0 and 26, inclusive. If `upper` is not specified, or is `False`, a lowercase letter is returned. If `upper` is `True`, the corresponding uppercase letter is returned.  Values of `n` less than 0 or greater than 26 cause the function to raise an exception (we provide you the code for this).  Your code should make use of the `chr()` function.\n",
      "\n",
      "In the cell below, complete the code for `char_to_num(c)` and `num_to_char(n,upper=False)`. Here are some test cases.\n",
      "\n",
      "```python\n",
      "char_to_num('a')      # this returns 0\n",
      "char_to_num('z')      # this returns 25\n",
      "char_to_num('Z')      # also returns 25\n",
      "\n",
      "num_to_char(0)        # this returns 'a'\n",
      "num_to_char(25)       # this returns 'z'\n",
      "num_to_char(25, True) # this returns 'Z'\n",
      "```"
     ]
    },
    {
     "cell_type": "code",
     "collapsed": false,
     "input": [
      "def char_to_num(char):\n",
      "    if not char.isalpha():\n",
      "        raise ValueError(\"Given character is not a letter\")\n",
      "    elif char.isupper():\n",
      "        return ord(char.lower()) - 97# put your code here.\n",
      "    else:\n",
      "        return ord(char) - 97 # put your code here.\n",
      "    \n",
      "def num_to_char(num, isupper=False):\n",
      "    if num < 0 or num >= 26:\n",
      "        raise ValueError(\"Given number doesn't represent a letter\")\n",
      "    elif isupper:\n",
      "        char = chr(num + 97)\n",
      "        return char.upper()# put your code here\n",
      "    else:\n",
      "        return chr(num + 97)# put your code here"
     ],
     "language": "python",
     "metadata": {},
     "outputs": [],
     "prompt_number": 88
    },
    {
     "cell_type": "markdown",
     "metadata": {},
     "source": [
      "## Task 2: Caesar Shift\n",
      "Caesar cipher, or Caesar shift, is one of the simplest and oldest types of ciphers. Using Caesar shift, every character in the plaintext will be moved a fixed distance down along the alphabet, and the fixed distance is called the \"key\". For example, with a key of 3:\n",
      "```\n",
      " plaintext: abcdefghijklmnopqrstuvwxyz\n",
      "ciphertext: defghijklmnopqrstuvwxyzabc\n",
      "\n",
      " plaintext: the quick brown fox jumps over the lazy dog\n",
      "ciphertext: wkh txlfn eurzq ira mxpsv ryhu wkh odcb grj\n",
      "```\n",
      "__There are no dictionary keys in this assignment. When the assignment says \"key\", it means the Caesar shift key.__\n",
      "\n",
      "Now let's implement Caesar shift by writing two functions:\n",
      "\n",
      "1. `shift_letter(c, key)` takes a character `c` and an integer `key` , and  returns the Caesar shift of the character by a number of positions given by `key`.\n",
      "    - It should handle both lowercase and uppercase letters.\n",
      "    - It should handle a key value that's larger than 26 or smaller than 0. ~~We provide the code to handle this.~~ __The easy way to do this is to use the % operator with a modulus of 26: _e.g._, if you shift z (number 25) by 1, the result is (25 + 1) % 26.__\n",
      "    - If the given character is not a letter, `shift_letter` should return the same character that was supplied to the function (no modification).\n",
      "2. `caesar(plaintext, key)` takes a string and a key value, and returns the corresponding ciphertextp.\n",
      "    - It should handle strings containing lowercase, uppercase, and non-letters.\n",
      "    - It should handle a key that's larger than 26 or smaller than 0.  __As noted above, use the % (modulus) operator, with a modulus vaue of 26, to fix up the result of the shift operation to keep it between 0 and 25.__"
     ]
    },
    {
     "cell_type": "code",
     "collapsed": false,
     "input": [
      "def shift_letter(letter, key):\n",
      "    \"\"\"shifts a letter a distance key through the Caesar cypher\"\"\"\n",
      "    if letter.isalpha():\n",
      "        char = char_to_num(letter)\n",
      "        code = char + key\n",
      "        if code > 25:\n",
      "            code = code - 26\n",
      "        if code < 0:\n",
      "            code = 26 - abs(code)\n",
      "        encoded = num_to_char(code)\n",
      "        if letter.isupper():\n",
      "            return encoded.upper()\n",
      "        else:\n",
      "            return encoded\n",
      "    else:\n",
      "        return letter"
     ],
     "language": "python",
     "metadata": {},
     "outputs": [],
     "prompt_number": 89
    },
    {
     "cell_type": "code",
     "collapsed": false,
     "input": [
      "def caesar(plaintext, key):\n",
      "    \"\"\"Uses the caesar cypher to encode a string with a certain encryption key\"\"\"\n",
      "    cipher_list = []\n",
      "    for char in plaintext:\n",
      "        letter = shift_letter(char,key)\n",
      "        # your code should shift the character and then\n",
      "        # append the shifted charater to cipher_list\n",
      "        cipher_list.append(letter)\n",
      "    return \"\".join(cipher_list)"
     ],
     "language": "python",
     "metadata": {},
     "outputs": [],
     "prompt_number": 92
    },
    {
     "cell_type": "markdown",
     "metadata": {},
     "source": [
      "The following are two functions to help you test whether your `shift_letter` and `caesar` functions are correct. If your code is entirely correct, the following functions should return True without showing any error.\n",
      "\n",
      "The `assert` instructions in the functions deserve a little explanation.\n",
      "Assertions are pretty common in programming languages, and are used for\n",
      "\"sanity-checking\" code when it is run. An assertion allows you to stop\n",
      "a program if something that you know should be true is not.  In Python, an\n",
      "assertion contains an expression which is evaluated. If it's true, nothing happens; the script continues to execute. If it's not true, an exception\n",
      "is raised, and the program stops, with an optional error message."
     ]
    },
    {
     "cell_type": "code",
     "collapsed": false,
     "input": [
      "# These should print True:\n",
      "def test_shift_letter():\n",
      "    assert shift_letter('a', 0) == 'a', \"Shifting by 0 should produce the original character\"\n",
      "    assert shift_letter('a', 1) == 'b', \"Shifting by 1 should produce the next character\"\n",
      "    assert shift_letter('a', -1) == 'z', \"Shifting by -1 should produce the previous character\"\n",
      "    assert shift_letter('a', 25) == 'z', \"Shifting by 25 should produce the previous character\"\n",
      "    assert shift_letter('a', 26) == 'a', \"Shifting by 26 should produce the original character\"\n",
      "    assert shift_letter('a', 27) == 'b', \"Shifting by 27 should produce the next character\"\n",
      "    assert shift_letter('A', 0) == 'A', \"Shifting a capital letter should produce a capital letter\"\n",
      "    assert shift_letter('B', 1) == 'C', \"Shifting a capital letter should produce a capital letter\"\n",
      "    assert shift_letter(' ', 15) == ' ', \"Shifting a non-letter should produce the original character\"\n",
      "    assert shift_letter('.', 15) == '.', \"Shifting a non-letter should produce the original character\"\n",
      "    return True\n",
      "\n",
      "def test_caesar():\n",
      "    assert caesar(\"The quick brown fox jumps over the lazy dog.\", 0) == \"The quick brown fox jumps over the lazy dog.\", \"Shifting by 0 should produce the original string\"\n",
      "    assert caesar(\"The quick brown fox jumps over the lazy dog.\", 1) == \"Uif rvjdl cspxo gpy kvnqt pwfs uif mbaz eph.\", \"Shifting by 1 should move each letter down by 1.\"\n",
      "    assert caesar(\"The quick brown fox jumps over the lazy dog.\", -1) == \"Sgd pthbj aqnvm enw itlor nudq sgd kzyx cnf.\", \"Shifting by -1 should move each letter up by 1.\"\n",
      "    return True\n",
      "\n",
      "test_shift_letter()\n",
      "test_caesar()"
     ],
     "language": "python",
     "metadata": {},
     "outputs": [
      {
       "metadata": {},
       "output_type": "pyout",
       "prompt_number": 93,
       "text": [
        "True"
       ]
      }
     ],
     "prompt_number": 93
    },
    {
     "cell_type": "markdown",
     "metadata": {},
     "source": [
      "## Task 3: Solving Caesar Shift with a Key\n",
      "When we know the key to a piece of ciphertext, we can decode the piece of ciphertext by shifting each letter backwards (up). For example, with a key of 3:\n",
      "\n",
      "```\n",
      "ciphertext: defghijklmnopqrstuvwxyzabc\n",
      " plaintext: abcdefghijklmnopqrstuvwxyz\n",
      "\n",
      "ciphertext: wkh txlfn eurzq ira mxpsv ryhu wkh odcb grj\n",
      " plaintext: the quick brown fox jumps over the lazy dog\n",
      "```\n",
      "\n",
      "Now let's solve Caesar shift by writing the function `inverse_caesar`:\n",
      "\n",
      "`inverse_caesar` takes one string as the ciphertext and one number as the key, and should **return the plaintext** by shifting the ciphertext backwards.\n",
      "+ It should handle strings containing lowercase, uppercase, and non-letters.\n",
      "+ It should handle a key that's larger than 26 or smaller than 0."
     ]
    },
    {
     "cell_type": "code",
     "collapsed": false,
     "input": [
      "def inverse_caesar(ciphertext, key):\n",
      "    \"\"\"Decrypts a text encoded with the caesar cypher and a given key\"\"\"\n",
      "    # compute inverse caesar and return results\n",
      "    decryptkey = -key\n",
      "    cipher_list = []\n",
      "    for char in ciphertext:\n",
      "        letter = shift_letter(char,decryptkey)\n",
      "        cipher_list.append(letter)\n",
      "    return \"\".join(cipher_list)"
     ],
     "language": "python",
     "metadata": {},
     "outputs": [],
     "prompt_number": 94
    },
    {
     "cell_type": "markdown",
     "metadata": {},
     "source": [
      "The following is a function for testing `inverse_cipher`. It should return True without showing any error."
     ]
    },
    {
     "cell_type": "code",
     "collapsed": false,
     "input": [
      "def test_inverse_caesar():\n",
      "    assert inverse_caesar(\"The quick brown fox jumps over the lazy dog.\", 0) == \"The quick brown fox jumps over the lazy dog.\", \"Shifting by 0 should produce the original string\"\n",
      "    assert inverse_caesar(\"Uif rvjdl cspxo gpy kvnqt pwfs uif mbaz eph.\", 1) == \"The quick brown fox jumps over the lazy dog.\", \"Shifting by 1 should move each letter up by 1.\"\n",
      "    assert inverse_caesar(\"Sgd pthbj aqnvm enw itlor nudq sgd kzyx cnf.\", -1) == \"The quick brown fox jumps over the lazy dog.\", \"Shifting by -1 should move each letter down by 1.\"\n",
      "    assert inverse_caesar(caesar(\"The quick brown fox jumps over the lazy dog.\", 15), 15) == \"The quick brown fox jumps over the lazy dog.\", \"inverse_caesar should be the inverse of caesar.\"\n",
      "    return True\n",
      "\n",
      "test_inverse_caesar()"
     ],
     "language": "python",
     "metadata": {},
     "outputs": [
      {
       "metadata": {},
       "output_type": "pyout",
       "prompt_number": 95,
       "text": [
        "True"
       ]
      }
     ],
     "prompt_number": 95
    },
    {
     "cell_type": "markdown",
     "metadata": {},
     "source": [
      "## Task 4: Cracking Caesar Shift\n",
      "With the help of an English lexicon, we can easily \"crack\" Caesar shift by trying all possibilities for deciphering some ciphertext, and checking whether the decoded text belongs to the English lexicon.\n",
      "\n",
      "Here we first load in some English words:"
     ]
    },
    {
     "cell_type": "code",
     "collapsed": false,
     "input": [
      "import os, urllib\n",
      "\n",
      "u = 'http://patrick-flynn.github.io/code/crypto/'\n",
      "lexname = \"web2.txt\"\n",
      "if not os.path.exists(lexname):\n",
      "    print 'fetching lexicon...'\n",
      "    urllib.urlretrieve(u + lexname, lexname)\n",
      "else:\n",
      "    print \"lexicon is already present\"\n",
      "\n",
      "english_lex = []\n",
      "with open(\"./web2.txt\", \"r\") as f:\n",
      "    for line in f:\n",
      "        english_lex.append(line.strip().lower())"
     ],
     "language": "python",
     "metadata": {},
     "outputs": [
      {
       "output_type": "stream",
       "stream": "stdout",
       "text": [
        "fetching lexicon...\n"
       ]
      }
     ],
     "prompt_number": 11
    },
    {
     "cell_type": "markdown",
     "metadata": {},
     "source": [
      "Now let's implement `crack_caesar` with the help of the dictionary:\n",
      "\n",
      "(_additions and strikethroughs are updates from March 31_)\n",
      "\n",
      "`crack_caesar(text)` takes one string as the ciphertext, and should return **the plaintext it finds** by trying all possible values of the shift and find words in the text that contain an English word from the lexicon. If you ~~can find one word that's present~~ __find several words that are present__ in the English lexicon, that's pretty good evidence that the plaintext is correct.  So the recommended solution is to (a) convert the plaintext to lowercase, and (b) loop over all shift values, generate the candidate plaintext, and check to see if ~~any single word~~ __one-half or more of the words__ in the candidate plaintext __are__ in the `english_lex` list. Once you find ~~that first word that is present~~ __a sufficient number of words__, return the plaintext."
     ]
    },
    {
     "cell_type": "code",
     "collapsed": false,
     "input": [
      "def crack_caesar(text):\n",
      "    \"\"\"Cracks the caesar cyper by looping over all possible shifts and detecting words consistent with the English lexicon\"\"\"\n",
      "    # convert text to lowercase\n",
      "    # loop over all distinct shift values\n",
      "    #   generate candidate plaintext\n",
      "    #   set count_of_words = 0\n",
      "    #   loop over all words in candidate plaintext\n",
      "    #     if candidate plaintext word is in english_lex\n",
      "    #       increment count_of_words\n",
      "    #       if count_of_words > (number of sords in candidate plaintext)/2\n",
      "    #       return candidate plaintext\n",
      "    text = text.lower()\n",
      "    for x in range(26):\n",
      "        candidate = inverse_caesar(text,x)\n",
      "        count_of_words = 0\n",
      "        candidate_str = \"\"\n",
      "        for char in candidate:\n",
      "            if char not in ['.',',','!','?',':',';']:\n",
      "                candidate_str += char\n",
      "        candidate_list = candidate_str.split()\n",
      "        for word in candidate_list:\n",
      "            if word in english_lex:\n",
      "                count_of_words += 1\n",
      "        if count_of_words > (len(candidate_list)/2):\n",
      "            return candidate.capitalize()"
     ],
     "language": "python",
     "metadata": {},
     "outputs": [],
     "prompt_number": 130
    },
    {
     "cell_type": "markdown",
     "metadata": {},
     "source": [
      "The following, again, is a function to test `crack_caesar`."
     ]
    },
    {
     "cell_type": "code",
     "collapsed": false,
     "input": [
      "def test_crack_caesar():\n",
      "    assert crack_caesar(\"The quick brown fox jumps over the lazy dog.\") == \"The quick brown fox jumps over the lazy dog.\", \"crack_caesar should work for plaintext\"\n",
      "    assert crack_caesar(\"Wkh txlfn eurzq ira mxpsv ryhu wkh odcb grj.\") == \"The quick brown fox jumps over the lazy dog.\", \"crack_caesar should work for ciphertext\"\n",
      "    assert crack_caesar(\"Uif rvjdl cspxo gpy kvnqt pwfs uif mbaz eph.\") == \"The quick brown fox jumps over the lazy dog.\", \"crack_caesar should work for another ciphertext\"\n",
      "    return True\n",
      "    \n",
      "test_crack_caesar()"
     ],
     "language": "python",
     "metadata": {},
     "outputs": [
      {
       "metadata": {},
       "output_type": "pyout",
       "prompt_number": 131,
       "text": [
        "True"
       ]
      }
     ],
     "prompt_number": 131
    },
    {
     "cell_type": "markdown",
     "metadata": {},
     "source": [
      "##Task 5: Use crack_caesar()##\n",
      "Use your `crack_caesar` function to find the plaintext for this piece of ciphertext.\n",
      "\n",
      "```\n",
      "Wkh ghvljq kdv d qryho dqg fohyhu fxh: Vlpsob wrxfk wkh flufohg Plfnhb lfrq rq wkh edqg wr wkh flufohg Plfnhb lfrq rq wkh uhdghu. Zkhq hyhubwklqj zrunv, wkh uhdghu iodvkhv juhhq dqg hplwv d sohdvlqj wrqh; li vrphwklqj jrhv zurqj, lw jorzv eoxh--qhyhu uhg. Uhg oljkwv duh iruelgghq dw Glvqhb, dv wkhb lpsob vrphwklqj edg kdsshqhg. Qrwklqj edg fdq kdsshq dw Glvqhb Zruog.\n",
      "```"
     ]
    },
    {
     "cell_type": "code",
     "collapsed": false,
     "input": [
      "# insert code to find plaintext.\n",
      "crack_caesar(\"Wkh ghvljq kdv d qryho dqg fohyhu fxh: Vlpsob wrxfk wkh flufohg Plfnhb lfrq rq wkh edqg wr wkh flufohg Plfnhb lfrq rq wkh uhdghu. Zkhq hyhubwklqj zrunv, wkh uhdghu iodvkhv juhhq dqg hplwv d sohdvlqj wrqh; li vrphwklqj jrhv zurqj, lw jorzv eoxh--qhyhu uhg. Uhg oljkwv duh iruelgghq dw Glvqhb, dv wkhb lpsob vrphwklqj edg kdsshqhg. Qrwklqj edg fdq kdsshq dw Glvqhb Zruog.\")"
     ],
     "language": "python",
     "metadata": {},
     "outputs": [
      {
       "metadata": {},
       "output_type": "pyout",
       "prompt_number": 133,
       "text": [
        "'The design has a novel and clever cue: simply touch the circled mickey icon on the band to the circled mickey icon on the reader. when everything works, the reader flashes green and emits a pleasing tone; if something goes wrong, it glows blue--never red. red lights are forbidden at disney, as they imply something bad happened. nothing bad can happen at disney world.'"
       ]
      }
     ],
     "prompt_number": 133
    },
    {
     "cell_type": "code",
     "collapsed": false,
     "input": [],
     "language": "python",
     "metadata": {},
     "outputs": []
    }
   ],
   "metadata": {}
  }
 ]
}