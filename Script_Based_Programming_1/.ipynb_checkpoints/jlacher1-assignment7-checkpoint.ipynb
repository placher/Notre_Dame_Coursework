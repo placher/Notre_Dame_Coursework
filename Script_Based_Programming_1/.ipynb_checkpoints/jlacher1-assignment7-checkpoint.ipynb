{
 "metadata": {
  "name": "",
  "signature": "sha256:7fbc6b140b47f718a51b372144753c43df95273d976d051108979bc0aeb30e1d"
 },
 "nbformat": 3,
 "nbformat_minor": 0,
 "worksheets": [
  {
   "cells": [
    {
     "cell_type": "markdown",
     "metadata": {},
     "source": [
      "# CSE 10101/CAPP30391 Assignment 7#\n",
      "\n",
      "##jlacher1@nd.edu##\n",
      "\n",
      "This picture is pretty lame but you don't get much that's relevant when you google \"Python basketball\"."
     ]
    },
    {
     "cell_type": "code",
     "collapsed": false,
     "input": [
      "from IPython.display import Image\n",
      "Image(url=\"http://patrick-flynn.github.io/code/BigBouncy/kobesnake.jpg\")"
     ],
     "language": "python",
     "metadata": {},
     "outputs": [
      {
       "html": [
        "<img src=\"http://patrick-flynn.github.io/code/BigBouncy/kobesnake.jpg\"/>"
       ],
       "metadata": {},
       "output_type": "pyout",
       "prompt_number": 10,
       "text": [
        "<IPython.core.display.Image at 0x210a8160>"
       ]
      }
     ],
     "prompt_number": 10
    },
    {
     "cell_type": "code",
     "collapsed": false,
     "input": [
      "import matplotlib.pyplot as plt\n",
      "%matplotlib inline\n",
      "\n",
      "import os\n",
      "import urllib\n",
      "u = 'http://patrick-flynn.github.io/code/BigBouncy/'\n",
      "for name in ['teams.csv','seasons.csv','regular_season_results.csv']:\n",
      "    if not os.path.exists(name):\n",
      "        print 'fetching ',name,'...'\n",
      "        urllib.urlretrieve(u + name, name)\n",
      "    else:\n",
      "        print name,'is already present'"
     ],
     "language": "python",
     "metadata": {},
     "outputs": [
      {
       "output_type": "stream",
       "stream": "stdout",
       "text": [
        "teams.csv is already present\n",
        "seasons.csv is already present\n",
        "regular_season_results.csv is already present\n"
       ]
      }
     ],
     "prompt_number": 11
    },
    {
     "cell_type": "markdown",
     "metadata": {},
     "source": [
      "# About this assignment#\n",
      "\n",
      "In this assignment you will do some *analytics* on data relating to men's basketball games. This data was made available as part of a Kaggle competition last year: https://www.kaggle.com/c/march-machine-learning-mania/ .\n",
      "\n",
      "1. Read the instructions.\n",
      "2. Do the work.\n",
      "\n",
      "\n",
      "# I/O #\n",
      "\n",
      "The first step here is to read some data files relating to basketball games into the program.\n",
      "\n",
      "You should read up on the data files to understand what's in them.\n",
      "\n",
      "Read the section entitled \"File descriptions\" at this URL:\n",
      "https://www.kaggle.com/c/march-machine-learning-mania/data\n",
      "\n",
      "We are not going to use the tourney files so you can skip their descriptions.\n",
      "\n",
      "###Read teams###\n",
      "\n",
      "We'll read them into a dictionary `team` with the integer ID as the key.  So you use `team` to get the name from the ID.\n",
      "\n",
      "At the same time, we'll create a `team_id` dictionary with the name as the key. So you use `team_id` to get the id from the name.\n",
      "\n",
      "Note the use of `with` to handle the file processing.\n",
      "Also note the use of _ as a 'junk variable'"
     ]
    },
    {
     "cell_type": "code",
     "collapsed": false,
     "input": [
      "team = {}\n",
      "team_id = {}\n",
      "\n",
      "#columns are: id,name  (id is an int, name is a str)\n",
      "with open('teams.csv','r') as f:\n",
      "    # header line: skip over it.\n",
      "    _ = f.readline()\n",
      "    # process the rest of the file\n",
      "    for line in f:\n",
      "        [eye_d,name] = line.strip().split(',')\n",
      "        team[int(eye_d)] = name\n",
      "        team_id[name] = int(eye_d)"
     ],
     "language": "python",
     "metadata": {},
     "outputs": [],
     "prompt_number": 12
    },
    {
     "cell_type": "markdown",
     "metadata": {},
     "source": [
      "### Read seasons ###\n",
      "\n",
      "Similar code "
     ]
    },
    {
     "cell_type": "code",
     "collapsed": false,
     "input": [
      "season = {}\n",
      "\n",
      "#columns are: season id,years,dayzero,regionW,regionX,regionY,regionZ\n",
      "# all are strings\n",
      "with open('seasons.csv','r') as f:\n",
      "    # header line\n",
      "    _ = f.readline()\n",
      "    # process the rest of the file\n",
      "    for line in f:\n",
      "        [eye_d,years,dayzero,regionW,regionX,regionY,regionZ] = line.strip().split(',')\n",
      "        season[eye_d] = {'years':years, 'dayzero':dayzero, 'regions':{'W':regionW, 'X':regionX, 'Y':regionY, 'Z':regionZ}}"
     ],
     "language": "python",
     "metadata": {},
     "outputs": [],
     "prompt_number": 13
    },
    {
     "cell_type": "markdown",
     "metadata": {},
     "source": [
      "#Problem 1#\n",
      "\n",
      "Write code to read the contents of the file regular_season_results.csv contents into a dictionary.  You get to decide what the key should be, but remember, it needs to be unique. You could represent each game as a list or as a dictionary -- it's up to you. You could chunk up a bunch of games that are all related in some way (e.g., same team, same year) into a list that is retrieved by the key.  The point is to make the data structure useful for what you need to do below."
     ]
    },
    {
     "cell_type": "code",
     "collapsed": false,
     "input": [
      "regular_season_results = {}\n",
      "\n",
      "def read_rsr(filename=\"regular_season_results.csv\"):\n",
      "    \"\"\"Reads the results of the regular season games from seasons A:R to a dictionary\"\"\"\n",
      "    global regular_season_results\n",
      "    regular_season_results = {}\n",
      "    with open(filename,'r') as f:\n",
      "        # read and discard the first line\n",
      "        _ = f.readline()\n",
      "        # process the rest of the file, creating a data structure for each line, and updating regular_season_results as you go\n",
      "        line_num = 0\n",
      "        for line in f:\n",
      "            [season,daynum,wteam,wscore,lteam,lscore,numtot,wloc] = line.strip().split(',')\n",
      "            regular_season_results[line_num] = {'season':season,'daynum':daynum,'results':{'wteam':wteam,'wscore':wscore,'lteam':lteam,'lscore':lscore,'numtot':numtot,'wloc':wloc}}\n",
      "            line_num = line_num + 1\n",
      "    return regular_season_results"
     ],
     "language": "python",
     "metadata": {},
     "outputs": [],
     "prompt_number": 14
    },
    {
     "cell_type": "markdown",
     "metadata": {},
     "source": [
      "# Problem 2#\n",
      "In the next cell, write a function that computes and returns the season's average margin of victory for Notre Dame for each of the seasons in the data provided. Your answer must be returned as a list containing 19 elements, one for each of the seasons in the data set. Each of those elements will be a dictionary contianing two entries. One, with a key of 'years', is the 'years' entry of the season data, e.g. '2012-2013'. The other entry, with a key of 'margin', is the margin of victory (which would be negative since sometimes you have a bad year and get outscored a lot."
     ]
    },
    {
     "cell_type": "code",
     "collapsed": false,
     "input": [
      "def marginND():\n",
      "    \"\"\"Computes the average seasonal margin of victory for Notre Dame for the last 19 seasons\"\"\"\n",
      "    # your awesome code. The return statement below should return the computed list.\n",
      "    regular_season_results = read_rsr()\n",
      "    name = str(team_id['Notre Dame'])\n",
      "    yearly_margins = []\n",
      "    season_id = ['A','B','C','D','E','F','G','H','I','J','K','L','M','N','O','P','Q','R','S']\n",
      "    season_start = [0]\n",
      "    for t in range (1,91224):\n",
      "        if regular_season_results[t]['season'] != regular_season_results[t-1]['season']:\n",
      "            season_start.append(t)\n",
      "    season_start.append(91224)\n",
      "    for i in range(19):\n",
      "        total_margin = 0\n",
      "        num_games = 0\n",
      "        for x in range(season_start[i],season_start[i+1]):\n",
      "            game = regular_season_results[x]\n",
      "            _ = game['results']\n",
      "            if _['wteam'] == name:\n",
      "                total_margin = total_margin + int(_['wscore']) - int(_['lscore'])\n",
      "                num_games = num_games + 1\n",
      "            elif _['lteam'] == name:\n",
      "                total_margin = total_margin - int(_['wscore']) + int(_['lscore'])\n",
      "                num_games = num_games + 1\n",
      "        average_margin = total_margin / num_games\n",
      "        yearly_margins.append({'years':season[season_id[i]],'margin':average_margin})\n",
      "    return yearly_margins"
     ],
     "language": "python",
     "metadata": {},
     "outputs": [],
     "prompt_number": 15
    },
    {
     "cell_type": "markdown",
     "metadata": {},
     "source": [
      "# Problem 3 #\n",
      "\n",
      "In the next cell, write code that uses matplotlib's plot function to make a \"line plot\" of Notre Dame's season average margin of victory as a function of year, from earliest to latest. Provide a title for the plot as well as labels for the X and Y axes.  Your code does not have to be a function (if it is, make sure you call it so we can see the results)."
     ]
    },
    {
     "cell_type": "code",
     "collapsed": false,
     "input": [
      "# calculate the data to plot\n",
      "x = range(19)\n",
      "yND = []\n",
      "for i in range(19):\n",
      "    x[i] = x[i] + 1995\n",
      "    yND.append(marginND()[i]['margin'])\n",
      "# create the plot.\n",
      "plt.plot(x,yND,'b')\n",
      "plt.title('Average Margin of Victory/Defeat for Notre Dame')\n",
      "plt.xlabel('Seasons by Starting Year')\n",
      "plt.ylabel('Avg. Win/Loss Margin')"
     ],
     "language": "python",
     "metadata": {},
     "outputs": [
      {
       "metadata": {},
       "output_type": "pyout",
       "prompt_number": 16,
       "text": [
        "<matplotlib.text.Text at 0x14ca8588>"
       ]
      },
      {
       "metadata": {},
       "output_type": "display_data",
       "png": "[encoded data removed]",
       "text": [
        "<matplotlib.figure.Figure at 0x1402e860>"
       ]
      }
     ],
     "prompt_number": 16
    },
    {
     "cell_type": "markdown",
     "metadata": {},
     "source": [
      "# Problem 4#\n",
      "\n",
      "In the cell below, write a function that computes and returns the vector of average margins of victory for **any** named team. This function returns the same type of list as problem 2, but you get to select the name of the team. The team names should match (exactly!) the team name data in the `team` and `team_id` dictionaries above.  The team name should be supplied as a parameter to the function, and its default value should be 'Notre Dame', of course."
     ]
    },
    {
     "cell_type": "code",
     "collapsed": false,
     "input": [
      "def margin(teamname = 'Notre Dame'):\n",
      "    \"\"\" Uses the provided data to calculate the average seasonal margins of victory for a given team for the last 19 seasons.\"\"\"\n",
      "    # your awesome code.  The return statement below should return the computed list.\n",
      "    regular_season_results = read_rsr()\n",
      "    name = str(team_id[teamname])\n",
      "    yearly_margins = []\n",
      "    season_id = ['A','B','C','D','E','F','G','H','I','J','K','L','M','N','O','P','Q','R','S']\n",
      "    season_start = [0]\n",
      "    for t in range (1,91224):\n",
      "        if regular_season_results[t]['season'] != regular_season_results[t-1]['season']:\n",
      "            season_start.append(t)\n",
      "    season_start.append(91224)\n",
      "    for i in range(19):\n",
      "        total_margin = 0\n",
      "        num_games = 0\n",
      "        for x in range(season_start[i],season_start[i+1]):\n",
      "            game = regular_season_results[x]\n",
      "            _ = game['results']\n",
      "            if _['wteam'] == name:\n",
      "                total_margin = total_margin + int(_['wscore']) - int(_['lscore'])\n",
      "                num_games = num_games + 1\n",
      "            elif _['lteam'] == name:\n",
      "                total_margin = total_margin - int(_['wscore']) + int(_['lscore'])\n",
      "                num_games = num_games + 1\n",
      "        average_margin = total_margin / num_games\n",
      "        yearly_margins.append({'years':season[season_id[i]],'margin':average_margin})\n",
      "    return yearly_margins"
     ],
     "language": "python",
     "metadata": {},
     "outputs": [],
     "prompt_number": 17
    },
    {
     "cell_type": "markdown",
     "metadata": {},
     "source": [
      "# Problem 5 #\n",
      "\n",
      "Below, I give the names of the NCAA basketball champions for each of the 19 years covered by the data.  The names are given so that they exactly match the team names stored in the \"teams.csv\" file that is ingested above.  Use that set of team names to plot, using a red line, the average margin of victory of the NCAA champion team (whichever team that is) as a function of year, from earliest to latest. On the same plot, show Notre Dame's average margin of victory as a blue line (the same data you plotted in problem 3), and also show Michigan State's average margin of victory as a green line.  Hopefully, the green line will touch the red line for the 1999-2000 season."
     ]
    },
    {
     "cell_type": "code",
     "collapsed": false,
     "input": [
      "# NCAA MBB champions in the same order as the season data. I also provide the season code.\n",
      "champs = [ ['A','Kentucky'], ['B', 'Arizona'], ['C','Kentucky'], ['D','Connecticut'], ['E', 'Michigan St'], ['F','Duke'],\n",
      "          ['G','Maryland'],['H','Syracuse'],['I','Connecticut'],['J','North Carolina'],['K','Florida'],['L','Florida'],\n",
      "          ['M','Kansas'],['N','North Carolina'],['O','Duke'],['P','Connecticut'],['Q','Kentucky'],['R','Louisville'],\n",
      "          ['S','Connecticut']]\n",
      "\n",
      "# calculate the data to plot\n",
      "x = range(19)\n",
      "yND = []\n",
      "yChamp = []\n",
      "yMS = []\n",
      "for i in range(19):\n",
      "    x[i] = x[i] + 1995\n",
      "    yND.append(margin('Notre Dame')[i]['margin'])\n",
      "    yChamp.append(margin(champs[i][1])[i]['margin'])\n",
      "    yMS.append(margin('Michigan St')[i]['margin'])\n",
      "    \n",
      "# create the plot.\n",
      "plt.plot(x,yND,'b')\n",
      "plt.plot(x,yChamp,'r')\n",
      "plt.plot(x,yMS,'g')\n",
      "plt.title('Average Margin of Victory/Defeat')\n",
      "plt.xlabel('Seasons by Starting Year')\n",
      "plt.ylabel('Avg. Win/Loss Margin')"
     ],
     "language": "python",
     "metadata": {},
     "outputs": [
      {
       "metadata": {},
       "output_type": "pyout",
       "prompt_number": 18,
       "text": [
        "<matplotlib.text.Text at 0x23ce7cf8>"
       ]
      },
      {
       "metadata": {},
       "output_type": "display_data",
       "png": "[encoded data removed]",
       "text": [
        "<matplotlib.figure.Figure at 0x14d7a8d0>"
       ]
      }
     ],
     "prompt_number": 18
    },
    {
     "cell_type": "code",
     "collapsed": false,
     "input": [],
     "language": "python",
     "metadata": {},
     "outputs": [],
     "prompt_number": 18
    }
   ],
   "metadata": {}
  }
 ]
}