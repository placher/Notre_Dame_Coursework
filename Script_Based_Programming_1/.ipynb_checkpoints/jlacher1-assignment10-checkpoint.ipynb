{
 "metadata": {
  "name": "",
  "signature": "sha256:e6c45480ec47526e01cb59da7a2a2feaf80097eb1bfe2ff8887798171470679f"
 },
 "nbformat": 3,
 "nbformat_minor": 0,
 "worksheets": [
  {
   "cells": [
    {
     "cell_type": "markdown",
     "metadata": {},
     "source": [
      "# Assignment 10: AudioMash!#\n",
      "\n",
      "## J. Patrick Lacher ##\n",
      "\n",
      "This material is based on and assumes knowledge of the things in the in-class notebook http://patrick-flynn.github.io/code/sound/Sound-revised.ipynb, which in turn is based on http://nbviewer.ipython.org/gist/Carreau/5507501/the%20sound%20of%20hydrogen.ipynb\n",
      "\n",
      "\n",
      "The following cell contains some necessary things."
     ]
    },
    {
     "cell_type": "code",
     "collapsed": false,
     "input": [
      "%pylab inline\n",
      "from IPython.core.display import HTML\n",
      "import math\n",
      "from scipy.io import wavfile\n",
      "import urllib\n",
      "import os\n",
      "\n",
      "def wavPlayer(filepath):\n",
      "    \"\"\" will display html 5 player for compatible browser\n",
      "\n",
      "    Parameters :\n",
      "    ------------\n",
      "    filepath : relative filepath with respect to the notebook directory ( where the .ipynb are not cwd)\n",
      "               of the file to play\n",
      "    The browser need to know how to play wav through html5.\n",
      "    there is no autoplay to prevent file playing when the browser opens\n",
      "    \"\"\"\n",
      "    \n",
      "    src = \"\"\"\n",
      "    <head>\n",
      "    <meta http-equiv=\"Content-Type\" content=\"text/html; charset=utf-8\">\n",
      "    <title>Simple Test</title>\n",
      "    </head>\n",
      "    \n",
      "    <body>\n",
      "    <audio controls=\"controls\" style=\"width:600px\" >\n",
      "      <source src=\"files/%s\" type=\"audio/wav\" />\n",
      "      Your browser does not support the audio element.\n",
      "    </audio>\n",
      "    </body>\n",
      "    \"\"\"%(filepath)\n",
      "    display(HTML(src))\n",
      "    \n",
      "def ensuremono(wavdata):\n",
      "    \"\"\"takes data read from wavfile.read() (i.e., audio data) and checks to see if there are multiple channels.\n",
      "    If there are, the channels are averaged together to create a one-channel (mono) data set.\"\"\"\n",
      "    if len(wavdata[1].shape) > 1:\n",
      "        t = wavdata[1].dtype\n",
      "        monodata = average(wavdata[1],axis=1).astype(t)\n",
      "        return (wavdata[0],monodata)\n",
      "    else:\n",
      "        return wavdata"
     ],
     "language": "python",
     "metadata": {},
     "outputs": [
      {
       "output_type": "stream",
       "stream": "stdout",
       "text": [
        "Populating the interactive namespace from numpy and matplotlib\n"
       ]
      }
     ],
     "prompt_number": 1
    },
    {
     "cell_type": "markdown",
     "metadata": {},
     "source": [
      "In the in-class presentations, we saw `wavfile.write()`, which allows you to take sound data, with a data type (e.g., np.uint16) and sampling rate (e.g., 44100) that you know, and put it in a file in the standard .wav format that your web browser can play.\n",
      "\n",
      "You can also read existing .wav files into memory using `wavfile.read(filename)`.  The function returns a tuple t, where t[0] is an integer contianing the sampling rate, and t[1] is the audio data, stored as a numpy array.\n",
      "\n",
      "Henceforth, we will refer to the tuple (sampling rate, sound data) as an __audio object__.\n",
      "\n",
      "http://wavsource.com  looks like a good source of WAV files from old movies. Warning: some of the audio samples have naughty words.  http://download.wavetlan.com/SVV/Media/HTTP/http-wav.htm looks like another good source."
     ]
    },
    {
     "cell_type": "code",
     "collapsed": false,
     "input": [
      "# read audio of HAL-900 singing \"Daisy\" from the \"2001\" movie.\n",
      "if not os.path.exists('daisy.wav'):\n",
      "    urllib.urlretrieve('http://patrick-flynn.github.io/code/sound/daisy.wav','daisy.wav')\n",
      "daisy = wavfile.read('daisy.wav')\n",
      "wavPlayer('daisy.wav')"
     ],
     "language": "python",
     "metadata": {},
     "outputs": [
      {
       "html": [
        "\n",
        "    <head>\n",
        "    <meta http-equiv=\"Content-Type\" content=\"text/html; charset=utf-8\">\n",
        "    <title>Simple Test</title>\n",
        "    </head>\n",
        "    \n",
        "    <body>\n",
        "    <audio controls=\"controls\" style=\"width:600px\" >\n",
        "      <source src=\"files/daisy.wav\" type=\"audio/wav\" />\n",
        "      Your browser does not support the audio element.\n",
        "    </audio>\n",
        "    </body>\n",
        "    "
       ],
       "metadata": {},
       "output_type": "display_data",
       "text": [
        "<IPython.core.display.HTML at 0x3a639b0>"
       ]
      }
     ],
     "prompt_number": 2
    },
    {
     "cell_type": "code",
     "collapsed": false,
     "input": [
      "# what does daisy look like?  It's an audio object.\n",
      "daisy"
     ],
     "language": "python",
     "metadata": {},
     "outputs": [
      {
       "metadata": {},
       "output_type": "pyout",
       "prompt_number": 3,
       "text": [
        "(11025, array([128, 128, 128, ..., 128, 128, 128], dtype=uint8))"
       ]
      }
     ],
     "prompt_number": 3
    },
    {
     "cell_type": "markdown",
     "metadata": {},
     "source": [
      "So daisy[0] is the sampling rate and daisy[1] is a numpy array containing the audio signal values. That array is one-dimensional.\n",
      "\n",
      "__Warning__: The WAV file format allows for lots of flexibility. You may encounter stereo WAV files with separate left and right audio signals. The function `ensuremono()` above will make sure the output of `wavfile.read()` is a single audio channel.  Here's how you should use it, should you need to."
     ]
    },
    {
     "cell_type": "code",
     "collapsed": false,
     "input": [
      "if not os.path.exists('stereo.wav'):\n",
      "    urllib.urlretrieve('http://patrick-flynn.github.io/code/sound/stereo.wav','stereo.wav')\n",
      "stereo = wavfile.read('stereo.wav')\n",
      "stereo"
     ],
     "language": "python",
     "metadata": {},
     "outputs": [
      {
       "metadata": {},
       "output_type": "pyout",
       "prompt_number": 4,
       "text": [
        "(11025, array([[  -1,   -1],\n",
        "        [  20,   20],\n",
        "        [ 368,  368],\n",
        "        ..., \n",
        "        [-242, -242],\n",
        "        [-239, -239],\n",
        "        [-233, -233]], dtype=int16))"
       ]
      }
     ],
     "prompt_number": 4
    },
    {
     "cell_type": "markdown",
     "metadata": {},
     "source": [
      "So this audio object (read from stereo.wav) has a sampling rate of 11025 samples per second and a _two-dimensional_ array of sound samples. We don't need or want the complexity, so we can use the `ensuremono()` function to boil the stereo signal down to a mono signal. `ensuremono()` returns an audio object."
     ]
    },
    {
     "cell_type": "code",
     "collapsed": false,
     "input": [
      "mono = ensuremono(stereo)\n",
      "mono"
     ],
     "language": "python",
     "metadata": {},
     "outputs": [
      {
       "metadata": {},
       "output_type": "pyout",
       "prompt_number": 5,
       "text": [
        "(11025, array([  -1,   20,  368, ..., -242, -239, -233], dtype=int16))"
       ]
      }
     ],
     "prompt_number": 5
    },
    {
     "cell_type": "code",
     "collapsed": true,
     "input": [
      "# You can apply ensuremono() to a mono signal\n",
      "# and you get the mono signal back:\n",
      "monoer = ensuremono(mono)\n",
      "monoer"
     ],
     "language": "python",
     "metadata": {},
     "outputs": [
      {
       "metadata": {},
       "output_type": "pyout",
       "prompt_number": 6,
       "text": [
        "(11025, array([  -1,   20,  368, ..., -242, -239, -233], dtype=int16))"
       ]
      }
     ],
     "prompt_number": 6
    },
    {
     "cell_type": "code",
     "collapsed": false,
     "input": [
      "# It might be useful to know that numpy arrays act like regular Python lists.\n",
      "# In particular, you can use slice notation to extract pieces, etc.\n",
      "# So if you have an audio object, you can make a sliced version,\n",
      "# but don't forget that the audio data is stored in the object as slot 1.\n",
      "# So if you modify the audio data, you need to store it in a new tuple.\n",
      "#\n",
      "# This code chops 10,000 samples from the mono data and plots the original and the piece in different colors.\n",
      "#\n",
      "\n",
      "monopiece = (mono[0],mono[1][1:10000])\n",
      "plot(mono[1],'r',monopiece[1],'b')"
     ],
     "language": "python",
     "metadata": {},
     "outputs": [
      {
       "metadata": {},
       "output_type": "pyout",
       "prompt_number": 7,
       "text": [
        "[<matplotlib.lines.Line2D at 0xa1a6a58>,\n",
        " <matplotlib.lines.Line2D at 0xa1a6c88>]"
       ]
      },
      {
       "metadata": {},
       "output_type": "display_data",
       "png": "[encoded data removed]",
       "text": [
        "<matplotlib.figure.Figure at 0x3a63ef0>"
       ]
      }
     ],
     "prompt_number": 7
    },
    {
     "cell_type": "markdown",
     "metadata": {},
     "source": [
      "__1. In the cell below, create a function `doublespeed(audio,filename)` that will take the audio object read by `wavfile.read()`, and a filename, and write a new WAV file of the given name, where the audio will play back twice as fast (the pitch of the voices will increase, etc.).  Your function should call `ensuremono()` to ensure that the sound has a single channel.  Use your function to create a double-speed version of the daisy data, and save it as `chipmunkDaisy.wav` .__"
     ]
    },
    {
     "cell_type": "code",
     "collapsed": false,
     "input": [
      "def doublespeed(audio,filename):\n",
      "    \"\"\"Takes an audio object and increases the playback speed by a factor of 2\"\"\"\n",
      "    monoaudio = ensuremono(audio)\n",
      "    wavfile.write(filename,2*monoaudio[0],monoaudio[1])\n",
      "\n",
      "doublespeed(daisy,'chipmunkDaisy.wav')\n",
      "wavPlayer('chipmunkDaisy.wav')"
     ],
     "language": "python",
     "metadata": {},
     "outputs": [
      {
       "html": [
        "\n",
        "    <head>\n",
        "    <meta http-equiv=\"Content-Type\" content=\"text/html; charset=utf-8\">\n",
        "    <title>Simple Test</title>\n",
        "    </head>\n",
        "    \n",
        "    <body>\n",
        "    <audio controls=\"controls\" style=\"width:600px\" >\n",
        "      <source src=\"files/chipmunkDaisy.wav\" type=\"audio/wav\" />\n",
        "      Your browser does not support the audio element.\n",
        "    </audio>\n",
        "    </body>\n",
        "    "
       ],
       "metadata": {},
       "output_type": "display_data",
       "text": [
        "<IPython.core.display.HTML at 0xa1d6128>"
       ]
      }
     ],
     "prompt_number": 8
    },
    {
     "cell_type": "markdown",
     "metadata": {},
     "source": [
      "__2. In the cell below, create a function `threecopies(audio,filename)` that will take a mono audio object and a filename, and write a WAV file of the given name, where the audio will play three times in succession. Use your function to create a three-copies version of the daisy data, and save it as `daisydaisydaisy.wav` .__  Hint: you can use `np.concat()` to create a numpy array from one or more numpy arrays attached together."
     ]
    },
    {
     "cell_type": "code",
     "collapsed": false,
     "input": [
      "def threecopies(audio,filename):\n",
      "    \"\"\"Takes an audio object and writes an object that plays it three times in succession\"\"\"\n",
      "    monoaudio = ensuremono(audio)\n",
      "    wavfile.write(filename,monoaudio[0],np.concatenate((monoaudio[1],monoaudio[1],monoaudio[1])))\n",
      "    \n",
      "threecopies(daisy,'daisydaisydaisy.wav')\n",
      "wavPlayer('daisydaisydaisy.wav')"
     ],
     "language": "python",
     "metadata": {},
     "outputs": [
      {
       "html": [
        "\n",
        "    <head>\n",
        "    <meta http-equiv=\"Content-Type\" content=\"text/html; charset=utf-8\">\n",
        "    <title>Simple Test</title>\n",
        "    </head>\n",
        "    \n",
        "    <body>\n",
        "    <audio controls=\"controls\" style=\"width:600px\" >\n",
        "      <source src=\"files/daisydaisydaisy.wav\" type=\"audio/wav\" />\n",
        "      Your browser does not support the audio element.\n",
        "    </audio>\n",
        "    </body>\n",
        "    "
       ],
       "metadata": {},
       "output_type": "display_data",
       "text": [
        "<IPython.core.display.HTML at 0xa12aeb8>"
       ]
      }
     ],
     "prompt_number": 9
    },
    {
     "cell_type": "markdown",
     "metadata": {},
     "source": [
      "__3. In the cell below, create a function `reverseaudio(audio,filename)` that will take an audio object and a filename, and write a WAV file of the given name, where the audio will play backwards. Use your function to create a backward version of the daisy data, and save it as `ysiad.wav` .__"
     ]
    },
    {
     "cell_type": "code",
     "collapsed": false,
     "input": [
      "def reverseaudio(audio,filename):\n",
      "    \"\"\"Takes and audio object and creates a mirrored object\"\"\"\n",
      "    monoaudio = ensuremono(audio)\n",
      "    wavfile.write(filename,monoaudio[0],monoaudio[1][::-1])\n",
      "    \n",
      "reverseaudio(daisy,'ysiad.wav')\n",
      "wavPlayer('ysiad.wav')"
     ],
     "language": "python",
     "metadata": {},
     "outputs": [
      {
       "html": [
        "\n",
        "    <head>\n",
        "    <meta http-equiv=\"Content-Type\" content=\"text/html; charset=utf-8\">\n",
        "    <title>Simple Test</title>\n",
        "    </head>\n",
        "    \n",
        "    <body>\n",
        "    <audio controls=\"controls\" style=\"width:600px\" >\n",
        "      <source src=\"files/ysiad.wav\" type=\"audio/wav\" />\n",
        "      Your browser does not support the audio element.\n",
        "    </audio>\n",
        "    </body>\n",
        "    "
       ],
       "metadata": {},
       "output_type": "display_data",
       "text": [
        "<IPython.core.display.HTML at 0xa4837f0>"
       ]
      }
     ],
     "prompt_number": 10
    },
    {
     "cell_type": "markdown",
     "metadata": {},
     "source": [
      "__4. In the cell below, create a function `append(audio1,audio2,silencelength)` that will take two audio objects and a duration (in seconds) called `silencelength`, and return an audio object containing audiodata1 followed by `silencelength` seconds of silence followed by audiodata2.  This function should not write a file; it should just return an audio object of the same type as it reads, with new data.  Your function must verify that the two audio samples have the same sampling rate, and exit with an error message is they do not.  Use the function, and at least four WAV files you downloaded somewhere from the web, to create an audio mashup. It would be cool if it made sense.  Save the mashup to a file.__"
     ]
    },
    {
     "cell_type": "code",
     "collapsed": false,
     "input": [
      "def audioappend(audio1,audio2,silencelength):\n",
      "    \"\"\"Returns an audio object that is a concatination of the two argument opjects seperated by a length of silence\"\"\"\n",
      "    monoaudio1 = ensuremono(audio1)\n",
      "    monoaudio2 = ensuremono(audio2)\n",
      "    assert monoaudio1[0] == monoaudio2[0] , 'Audio files must have the same sample rate'\n",
      "    newaudio = (monoaudio1[0],np.concatenate((audio1[1],np.zeros((silencelength,), dtype=numpy.uint8),audio2[1])))\n",
      "    return newaudio\n",
      "\n",
      "# .wav files had to be downloaded manually to directory \n",
      "nih = wavfile.read('nih.wav')              #http://www.wavsource.com/snds_2015-04-26_2175247058418726/movies/monty_python_hg/nih.wav\n",
      "nihagain = wavfile.read('nihagain.wav')    #http://www.wavsource.com/snds_2015-04-26_2175247058418726/movies/monty_python_hg/nih_again.wav\n",
      "sacrifice = wavfile.read('sacrifice.wav')  #http://www.wavsource.com/snds_2015-04-26_2175247058418726/movies/monty_python_hg/sacrifice.wav\n",
      "shrubbery = wavfile.read('shrubbery.wav')  #http://www.wavsource.com/snds_2015-04-26_2175247058418726/movies/monty_python_hg/shrubbery.wav\n",
      "\n",
      "python = audioappend(audioappend(nih,nihagain,1000),audioappend(sacrifice,shrubbery,1000),1000)\n",
      "wavfile.write('python.wav',python[0],python[1])\n",
      "wavPlayer('python.wav')"
     ],
     "language": "python",
     "metadata": {},
     "outputs": [
      {
       "html": [
        "\n",
        "    <head>\n",
        "    <meta http-equiv=\"Content-Type\" content=\"text/html; charset=utf-8\">\n",
        "    <title>Simple Test</title>\n",
        "    </head>\n",
        "    \n",
        "    <body>\n",
        "    <audio controls=\"controls\" style=\"width:600px\" >\n",
        "      <source src=\"files/python.wav\" type=\"audio/wav\" />\n",
        "      Your browser does not support the audio element.\n",
        "    </audio>\n",
        "    </body>\n",
        "    "
       ],
       "metadata": {},
       "output_type": "display_data",
       "text": [
        "<IPython.core.display.HTML at 0xa48d2b0>"
       ]
      }
     ],
     "prompt_number": 11
    },
    {
     "cell_type": "markdown",
     "metadata": {},
     "source": [
      "__5. In the cell below, create a function `add(audio1, scale1, audio2)` that will take two audio objects  of the same length, and a \"scale factor\" `scale1` between zero and one, and computes a scaled sum of the audio signals, sample by sample. Each output sample result[i] should be equal to `scale1` x audio1[i] + (1.0-`scale1`) x audio2[i].  Your code must stop with an error message if audio1 and audio2 are different in length, and it must stop with an error message if scale1 is not between 0.0 and 1.0.  Use your function three times to add together four different voice samples to create a synthetic conversation.  Keep in mind that you can use slicing to shorten a numpy array.__"
     ]
    },
    {
     "cell_type": "code",
     "collapsed": false,
     "input": [
      "def audioadd(audio1,scale1,audio2):\n",
      "    \"\"\"Computes a scaled sum of 2 audio signals\"\"\"\n",
      "    assert len(audio1[1]) == len(audio2[1]),'Audio samples are different in length'\n",
      "    assert 0.0 <= scale1, 'Scale is less than 0.0'\n",
      "    assert scale1 <= 1.0, 'Scale is greater than 1.0'\n",
      "    result = range(len(audio1[1]))\n",
      "    for i in range(len(audio1[1])):\n",
      "        result[i] = (scale1*audio1[1][i])+((1.0-scale1)*audio2[1][i])\n",
      "    npresult = np.array(result, dtype=numpy.uint8)\n",
      "    newaudio = (audio1[0],npresult)\n",
      "    return newaudio\n",
      "\n",
      "# .wav files had to be downloaded manually to directory\n",
      "bush1 = wavfile.read('bush_read.wav')         #http://www.wavsource.com/snds_2015-04-26_2175247058418726/people/politics/bush_read.wav\n",
      "bush = (bush1[0],bush1[1][:34290])\n",
      "bushw1 = wavfile.read('bushw_job.wav')        #http://www.wavsource.com/snds_2015-04-26_2175247058418726/people/politics/bushw_biggest_job.wav\n",
      "bushw = (bushw1[0],bushw1[1][:34290])\n",
      "clinton1 = wavfile.read('clinton_dope.wav')   #http://www.wavsource.com/snds_2015-04-26_2175247058418726/people/politics/clinton_1992_dope.wav\n",
      "clinton = (clinton1[0],clinton1[1][:34290])\n",
      "carter1 = wavfile.read('carter_running.wav')  #http://www.wavsource.com/snds_2015-04-26_2175247058418726/people/politics/carter_running.wav\n",
      "carter = (carter1[0],carter1[1][:34290])\n",
      "\n",
      "republican = audioadd(bush,0.5,bushw)\n",
      "democrat = audioadd(clinton,0.5,carter)\n",
      "presidential = audioadd(republican,0.5,democrat)\n",
      "wavfile.write('presidential.wav',presidential[0],presidential[1])\n",
      "wavPlayer('presidential.wav')"
     ],
     "language": "python",
     "metadata": {},
     "outputs": [
      {
       "html": [
        "\n",
        "    <head>\n",
        "    <meta http-equiv=\"Content-Type\" content=\"text/html; charset=utf-8\">\n",
        "    <title>Simple Test</title>\n",
        "    </head>\n",
        "    \n",
        "    <body>\n",
        "    <audio controls=\"controls\" style=\"width:600px\" >\n",
        "      <source src=\"files/presidential.wav\" type=\"audio/wav\" />\n",
        "      Your browser does not support the audio element.\n",
        "    </audio>\n",
        "    </body>\n",
        "    "
       ],
       "metadata": {},
       "output_type": "display_data",
       "text": [
        "<IPython.core.display.HTML at 0xa470940>"
       ]
      }
     ],
     "prompt_number": 12
    }
   ],
   "metadata": {}
  }
 ]
}