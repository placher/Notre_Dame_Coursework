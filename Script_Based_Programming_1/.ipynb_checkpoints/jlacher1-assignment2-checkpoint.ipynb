{
 "metadata": {
  "name": "",
  "signature": "sha256:9fafedbbe5fb2857a70e747fc417ea718ed314c7e2f672af1c949e3fdda0a686"
 },
 "nbformat": 3,
 "nbformat_minor": 0,
 "worksheets": [
  {
   "cells": [
    {
     "cell_type": "heading",
     "level": 1,
     "metadata": {},
     "source": [
      "CSE 10101"
     ]
    },
    {
     "cell_type": "heading",
     "level": 2,
     "metadata": {},
     "source": [
      "jlacher1@nd.edu"
     ]
    },
    {
     "cell_type": "heading",
     "level": 4,
     "metadata": {},
     "source": [
      "Part 1"
     ]
    },
    {
     "cell_type": "code",
     "collapsed": false,
     "input": [
      "N=78819"
     ],
     "language": "python",
     "metadata": {},
     "outputs": [],
     "prompt_number": 1
    },
    {
     "cell_type": "code",
     "collapsed": false,
     "input": [
      "low=100\n",
      "high=1000"
     ],
     "language": "python",
     "metadata": {},
     "outputs": [],
     "prompt_number": 13
    },
    {
     "cell_type": "code",
     "collapsed": false,
     "input": [
      "while low+1 <> high :\n",
      "    test=(low+high)/2\n",
      "    test2=test*test\n",
      "    if test2<N :\n",
      "        low=test\n",
      "    if test2>N :\n",
      "        high=test\n",
      "else:\n",
      "    print ('The square root is bounded by the numbers:')\n",
      "    print low\n",
      "    print high"
     ],
     "language": "python",
     "metadata": {},
     "outputs": [
      {
       "output_type": "stream",
       "stream": "stdout",
       "text": [
        "The square root is bounded by the numbers:\n",
        "280\n",
        "281\n"
       ]
      }
     ],
     "prompt_number": 29
    },
    {
     "cell_type": "heading",
     "level": 4,
     "metadata": {},
     "source": [
      "The above cell compares the values of \"low\" and \"high\". While the two are seperated by a differential of more than 1, the test operation is continuously used to redefine the two variables untill they bound the desired square root with successive intergers."
     ]
    },
    {
     "cell_type": "heading",
     "level": 4,
     "metadata": {},
     "source": [
      "Part 2"
     ]
    },
    {
     "cell_type": "code",
     "collapsed": false,
     "input": [
      "fpan = file('peterpan.txt','r')"
     ],
     "language": "python",
     "metadata": {},
     "outputs": [],
     "prompt_number": 30
    },
    {
     "cell_type": "code",
     "collapsed": false,
     "input": [
      "pantemp = fpan.readlines()\n",
      "fpan.close()"
     ],
     "language": "python",
     "metadata": {},
     "outputs": [],
     "prompt_number": 31
    },
    {
     "cell_type": "code",
     "collapsed": false,
     "input": [
      "pantemp[1:85]"
     ],
     "language": "python",
     "metadata": {},
     "outputs": [
      {
       "metadata": {},
       "output_type": "pyout",
       "prompt_number": 37,
       "text": [
        "['\\n',\n",
        " 'This eBook is for the use of anyone anywhere at no cost and with\\n',\n",
        " 'almost no restrictions whatsoever.  You may copy it, give it away or\\n',\n",
        " 're-use it under the terms of the Project Gutenberg License included\\n',\n",
        " 'with this eBook or online at www.gutenberg.org\\n',\n",
        " '\\n',\n",
        " '** This is a COPYRIGHTED Project Gutenberg eBook, Details Below **\\n',\n",
        " '**     Please follow the copyright guidelines in this file.     **\\n',\n",
        " '\\n',\n",
        " 'Title: Peter Pan\\n',\n",
        " '       Peter Pan and Wendy\\n',\n",
        " '\\n',\n",
        " 'Author: James M. Barrie\\n',\n",
        " '\\n',\n",
        " 'Posting Date: June 25, 2008 [EBook #16]\\n',\n",
        " 'Release Date: July, 1991\\n',\n",
        " '[Last updated: May 25, 2011]\\n',\n",
        " '\\n',\n",
        " 'Language: English\\n',\n",
        " '\\n',\n",
        " 'Character set encoding: ASCII\\n',\n",
        " '\\n',\n",
        " '*** START OF THIS PROJECT GUTENBERG EBOOK PETER PAN ***\\n',\n",
        " '\\n',\n",
        " '\\n',\n",
        " '\\n',\n",
        " '\\n',\n",
        " '\\n',\n",
        " '\\n',\n",
        " '\\n',\n",
        " '\\n',\n",
        " '\\n',\n",
        " '\\n',\n",
        " 'PETER PAN\\n',\n",
        " '\\n',\n",
        " '[PETER AND WENDY]\\n',\n",
        " '\\n',\n",
        " 'By J. M. Barrie [James Matthew Barrie]\\n',\n",
        " '\\n',\n",
        " 'A Millennium Fulcrum Edition (c)1991 by Duncan Research\\n',\n",
        " '\\n',\n",
        " '\\n',\n",
        " '\\n',\n",
        " '\\n',\n",
        " 'Contents:\\n',\n",
        " '\\n',\n",
        " 'Chapter 1 PETER BREAKS THROUGH\\n',\n",
        " '\\n',\n",
        " 'Chapter 2 THE SHADOW\\n',\n",
        " '\\n',\n",
        " 'Chapter 3 COME AWAY, COME AWAY!\\n',\n",
        " '\\n',\n",
        " 'Chapter 4 THE FLIGHT\\n',\n",
        " '\\n',\n",
        " 'Chapter 5 THE ISLAND COME TRUE\\n',\n",
        " '\\n',\n",
        " 'Chapter 6 THE LITTLE HOUSE\\n',\n",
        " '\\n',\n",
        " 'Chapter 7 THE HOME UNDER THE GROUND\\n',\n",
        " '\\n',\n",
        " \"Chapter 8 THE MERMAID'S LAGOON\\n\",\n",
        " '\\n',\n",
        " 'Chapter 9 THE NEVER BIRD\\n',\n",
        " '\\n',\n",
        " 'Chapter 10 THE HAPPY HOME\\n',\n",
        " '\\n',\n",
        " \"Chapter 11 WENDY'S STORY\\n\",\n",
        " '\\n',\n",
        " 'Chapter 12 THE CHILDREN ARE CARRIED OFF\\n',\n",
        " '\\n',\n",
        " 'Chapter 13 DO YOU BELIEVE IN FAIRIES?\\n',\n",
        " '\\n',\n",
        " 'Chapter 14 THE PIRATE SHIP\\n',\n",
        " '\\n',\n",
        " 'Chapter 15 \"HOOK OR ME THIS TIME\"\\n',\n",
        " '\\n',\n",
        " 'Chapter 16 THE RETURN HOME\\n',\n",
        " '\\n',\n",
        " 'Chapter 17 WHEN WENDY GREW UP\\n',\n",
        " '\\n',\n",
        " '\\n',\n",
        " '\\n',\n",
        " '\\n',\n",
        " 'Chapter 1 PETER BREAKS THROUGH\\n']"
       ]
      }
     ],
     "prompt_number": 37
    },
    {
     "cell_type": "code",
     "collapsed": false,
     "input": [
      "pantext = pantemp[85:]"
     ],
     "language": "python",
     "metadata": {},
     "outputs": [],
     "prompt_number": 38
    },
    {
     "cell_type": "code",
     "collapsed": false,
     "input": [
      "panstring = ' '.join(pantext).replace('\\r\\n',' ')"
     ],
     "language": "python",
     "metadata": {},
     "outputs": [],
     "prompt_number": 40
    },
    {
     "cell_type": "code",
     "collapsed": false,
     "input": [
      "panwords = panstring.split()"
     ],
     "language": "python",
     "metadata": {},
     "outputs": [],
     "prompt_number": 41
    },
    {
     "cell_type": "heading",
     "level": 4,
     "metadata": {},
     "source": [
      "The above three cells convert the raw text file from Project Gutenberg into a workable text string."
     ]
    },
    {
     "cell_type": "code",
     "collapsed": false,
     "input": [
      "ncontractions = 0\n",
      "for word in panwords:\n",
      "    if \"'\" in word:\n",
      "      ncontractions = ncontractions + 1 \n",
      "print ('The text of Peter Pan contains'),ncontractions,('contractions.')\n",
      "count = len(panwords)\n",
      "contractionfraction = 1.0 * ncontractions / count\n",
      "print('The fraction of words that are contractions in Peter Pan is:'),contractionfraction"
     ],
     "language": "python",
     "metadata": {},
     "outputs": [
      {
       "output_type": "stream",
       "stream": "stdout",
       "text": [
        "The text of Peter Pan contains 579 contractions.\n",
        "The fraction of words that are contractions in Peter Pan is: 0.0114589930336\n"
       ]
      }
     ],
     "prompt_number": 51
    },
    {
     "cell_type": "heading",
     "level": 4,
     "metadata": {},
     "source": [
      "This cell counted the number of contractions in the text by searching for apostrophies in words and counting the number of times this occurred. It then divided the total number of words to produce a \"contraction fraction\"."
     ]
    },
    {
     "cell_type": "code",
     "collapsed": false,
     "input": [
      "import string\n",
      "string.punctuation"
     ],
     "language": "python",
     "metadata": {},
     "outputs": [
      {
       "metadata": {},
       "output_type": "pyout",
       "prompt_number": 52,
       "text": [
        "'!\"#$%&\\'()*+,-./:;<=>?@[\\\\]^_`{|}~'"
       ]
      }
     ],
     "prompt_number": 52
    },
    {
     "cell_type": "code",
     "collapsed": false,
     "input": [
      "panwords2 = []\n",
      "for word in panwords:\n",
      "    outword = ''\n",
      "    for c in word:\n",
      "        if c not in string.punctuation:\n",
      "            outword = outword + c\n",
      "    panwords2.append(outword.lower())"
     ],
     "language": "python",
     "metadata": {},
     "outputs": [],
     "prompt_number": 53
    },
    {
     "cell_type": "heading",
     "level": 4,
     "metadata": {},
     "source": [
      "The preceeding two cells remove all punctuation from the text and return a new string containing only the words of the text."
     ]
    },
    {
     "cell_type": "code",
     "collapsed": false,
     "input": [
      "wordcount = {} \n",
      "for word in panwords2:\n",
      "    if word not in wordcount:\n",
      "        wordcount[word] = 1\n",
      "    else:\n",
      "        wordcount[word] = wordcount[word] + 1"
     ],
     "language": "python",
     "metadata": {},
     "outputs": [],
     "prompt_number": 54
    },
    {
     "cell_type": "heading",
     "level": 4,
     "metadata": {},
     "source": [
      "This created a new dictionary that stores the word counts for every word that appears in the text of Peter Pan."
     ]
    },
    {
     "cell_type": "code",
     "collapsed": false,
     "input": [
      "name = raw_input('What is the name of your favorite Peter Pan character? ')\n",
      "query = (name.lower())\n",
      "quantity = wordcount[query]\n",
      "print ('The name'),name,('appears'),quantity,('times in the novel.')"
     ],
     "language": "python",
     "metadata": {},
     "outputs": [
      {
       "name": "stdout",
       "output_type": "stream",
       "stream": "stdout",
       "text": [
        "What is the name of your favorite Peter Pan character? Peter\n"
       ]
      },
      {
       "output_type": "stream",
       "stream": "stdout",
       "text": [
        "The name Peter appears 374 times in the novel.\n"
       ]
      }
     ],
     "prompt_number": 56
    },
    {
     "cell_type": "heading",
     "level": 4,
     "metadata": {},
     "source": [
      "This code asks the user for a name of a character in the book and checks the dictionary to determine how many times the entered name appears in the book."
     ]
    },
    {
     "cell_type": "code",
     "collapsed": false,
     "input": [],
     "language": "python",
     "metadata": {},
     "outputs": []
    }
   ],
   "metadata": {}
  }
 ]
}