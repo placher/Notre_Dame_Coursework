{
 "metadata": {
  "name": "",
  "signature": "sha256:2437c8070c27b49038ec32fbcadddb7ab21f9a676f3c508652351beff1292a4f"
 },
 "nbformat": 3,
 "nbformat_minor": 0,
 "worksheets": [
  {
   "cells": [
    {
     "cell_type": "heading",
     "level": 1,
     "metadata": {},
     "source": [
      "CSE 10101 Assignment 4"
     ]
    },
    {
     "cell_type": "heading",
     "level": 2,
     "metadata": {},
     "source": [
      "jlacher1@nd.edu"
     ]
    },
    {
     "cell_type": "code",
     "collapsed": false,
     "input": [
      "import math\n",
      "import random\n",
      "import numpy as np\n",
      "import matplotlib.pyplot as plt\n",
      "%matplotlib inline\n",
      "random.seed()"
     ],
     "language": "python",
     "metadata": {},
     "outputs": [],
     "prompt_number": 1
    },
    {
     "cell_type": "heading",
     "level": 4,
     "metadata": {},
     "source": [
      "dart( ) returns a two-element list, each element being a random number uniformly distributed between 0 and 1."
     ]
    },
    {
     "cell_type": "code",
     "collapsed": false,
     "input": [
      "def dart():\n",
      "    \"\"\"Return a 2 number list with elements between 0 and 1\"\"\"\n",
      "    xy = [random.random(),random.random()]\n",
      "    return xy"
     ],
     "language": "python",
     "metadata": {},
     "outputs": [],
     "prompt_number": 2
    },
    {
     "cell_type": "heading",
     "level": 4,
     "metadata": {},
     "source": [
      "inside(x,y) returns True if the point (x,y) is inside the unit circle centered at the origin, and False if the point is on that circle or outside of it"
     ]
    },
    {
     "cell_type": "code",
     "collapsed": false,
     "input": [
      "def inside(x,y):\n",
      "    \"\"\"Test to determine whether a point defined by (x,y)  is inside a unit circle centered at (0,0)\"\"\"\n",
      "    dart()\n",
      "    test = (x**2)+(y**2)\n",
      "    test2 = test < 1\n",
      "    return test2"
     ],
     "language": "python",
     "metadata": {},
     "outputs": [],
     "prompt_number": 3
    },
    {
     "cell_type": "heading",
     "level": 4,
     "metadata": {},
     "source": [
      "estimate_pi(n) returns a single floating point number which is the estimate of pi you get by throwing n darts.  If a value for n is not supplied, the default value is 1000."
     ]
    },
    {
     "cell_type": "code",
     "collapsed": false,
     "input": [
      "def estimate_pi(n=1000):\n",
      "    \"\"\"Estimate the value of pi determined by throwing n darts with dart(). If no n is provided, 1000 is the default.\"\"\"\n",
      "    dartcount = 0\n",
      "    for i in range(n):\n",
      "        throw = dart()\n",
      "        if inside(throw[0],throw[1]):\n",
      "            dartcount = dartcount + 1\n",
      "    piestimate = 4*(float(dartcount)/n)\n",
      "    return piestimate"
     ],
     "language": "python",
     "metadata": {},
     "outputs": [],
     "prompt_number": 4
    },
    {
     "cell_type": "heading",
     "level": 4,
     "metadata": {},
     "source": [
      "estimate_pi_confidence(n,ntrials)  returns the lower limit of the confidence interval, the average, and the upper limit of the confidence interval in one list using the numpy package"
     ]
    },
    {
     "cell_type": "code",
     "collapsed": false,
     "input": [
      "def estimate_pi_confidence(n=1000,ntrials=100):\n",
      "    \"\"\"Estimates an empirical confidence interval for pi based on ntrials trials of n darts each.\"\"\"\n",
      "    ests = []\n",
      "    for i in range(ntrials):\n",
      "        ests.append(estimate_pi(n))\n",
      "    average = np.mean(ests)\n",
      "    std = np.std(ests)\n",
      "    return [average-3.0*std, average, average+3.0*std]"
     ],
     "language": "python",
     "metadata": {},
     "outputs": [],
     "prompt_number": 5
    },
    {
     "cell_type": "code",
     "collapsed": false,
     "input": [
      "sizes = [10, 50, 100, 500, 1000, 5000 ,10000]\n",
      "means = []\n",
      "lows = []\n",
      "highs = []\n",
      "for i in sizes:\n",
      "    x = estimate_pi_confidence(i,100)\n",
      "    lows.append(x[0])\n",
      "    means.append(x[1])\n",
      "    highs.append(x[2])\n",
      "plt.semilogx()\n",
      "plt.plot(sizes,lows)\n",
      "plt.plot(sizes,means)\n",
      "plt.plot(sizes,highs)"
     ],
     "language": "python",
     "metadata": {},
     "outputs": [
      {
       "metadata": {},
       "output_type": "pyout",
       "prompt_number": 6,
       "text": [
        "[<matplotlib.lines.Line2D at 0xa0be908>]"
       ]
      },
      {
       "metadata": {},
       "output_type": "display_data",
       "png": "[encoded data removed]",
       "text": [
        "<matplotlib.figure.Figure at 0x9eb7f60>"
       ]
      }
     ],
     "prompt_number": 6
    },
    {
     "cell_type": "heading",
     "level": 4,
     "metadata": {},
     "source": [
      "The above plot shows that, as the number of darts thrown increases, the accuracy of the estimation of pi increases exponentially."
     ]
    }
   ],
   "metadata": {}
  }
 ]
}